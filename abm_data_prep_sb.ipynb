{
 "cells": [
  {
   "cell_type": "markdown",
   "metadata": {},
   "source": [
    "# ABM Data Prep\n",
    "current version: August 12 2019"
   ]
  },
  {
   "cell_type": "code",
   "execution_count": 280,
   "metadata": {},
   "outputs": [],
   "source": [
    "import pandas as pd\n",
    "import os\n",
    "import numpy as np"
   ]
  },
  {
   "cell_type": "code",
   "execution_count": 281,
   "metadata": {},
   "outputs": [
    {
     "name": "stderr",
     "output_type": "stream",
     "text": [
      "C:\\Users\\sbuchhorn\\AppData\\Local\\Continuum\\anaconda3\\lib\\site-packages\\IPython\\core\\interactiveshell.py:2785: DtypeWarning: Columns (84,85,86,87,88) have mixed types. Specify dtype option on import or set low_memory=False.\n",
      "  interactivity=interactivity, compiler=compiler, result=result)\n"
     ]
    }
   ],
   "source": [
    "surveydf = pd.read_csv('S:/AdminGroups/ResearchAnalysis/BER/ABM/FY18/_R_validation_notebook/data/survey/survey_trips_full.csv')"
   ]
  },
  {
   "cell_type": "markdown",
   "metadata": {},
   "source": [
    "#### SURVEY DATA (assembled previously)"
   ]
  },
  {
   "cell_type": "code",
   "execution_count": 325,
   "metadata": {},
   "outputs": [],
   "source": [
    "# surveydf = pd.read_csv('S:/AdminGroups/ResearchAnalysis/BER/ABM/FY18/_R_validation_notebook/data/survey/survey_trips_full.csv')\n",
    "\n",
    "# # trip purpose\n",
    "# trip_purpose_survey_save = 'S:/Projects_FY19/ModelDataVizPrototype/data/abm/trips_sunburst/survey_trip_purpose.csv'\n",
    "\n",
    "# x = surveydf.groupby(['trip_mode','trip_purpose']).agg({'EXPWGT':'sum'}).rename(columns={'EXPWGT':'QUANTITY'}).reset_index()\n",
    "# x['Trips by purpose'] = x['trip_purpose'].map(purpose_dict)\n",
    "# q = x[['Trips by purpose','trip_purpose','QUANTITY']]\n",
    "# q.to_csv(trip_purpose_survey_save,index=False)\n",
    "\n",
    "# # trip mode\n",
    "# trip_mode_survey_save = 'S:/Projects_FY19/ModelDataVizPrototype/data/abm/trips_sunburst/survey_trip_mode.csv'\n",
    "\n",
    "# t = surveydf.groupby('trip_mode').agg({'EXPWGT':'sum'}).rename(columns={'EXPWGT':'QUANTITY'}).reset_index()\n",
    "# t['Trips by mode'] = t['trip_mode'].map(mode_dict)\n",
    "# s = t[['Trips by mode','trip_mode','QUANTITY']]\n",
    "# s.to_csv(trip_mode_survey_save,index=False)\n",
    "\n",
    "# surveyone = surveydf[surveydf['JOINT_STATUS'] == 0]\n",
    "# surveyone.groupby(['trip_mode','type']).agg({'EXPWGT':'sum'}).rename(columns={'EXPWGT':'QUANTITY'}).reset_index()#.to_clipboard(excel=True,sep='\\t')\n",
    "\n",
    "# surveyhh = pd.read_csv('S:/AdminGroups/ResearchAnalysis/BER/ABM/FY18/_R_validation_notebook/data/survey/survey_hh.csv')\n",
    "# surveyhh = surveyhh[['SAMPN','HINCCAT2']]\n",
    "\n",
    "# surveyinc = surveydf.merge(surveyhh,on='SAMPN')\n",
    "\n",
    "# reclassdict = {1: 1,\n",
    "#                2: 1,\n",
    "#                3: 2,\n",
    "#                4: 3,\n",
    "#                5: 3,\n",
    "#                6: 4,\n",
    "#                7: 5}\n",
    "\n",
    "# surveyinc['HINCreclass'] = surveyinc.HINCCAT2.map(reclassdict)\n",
    "# surveyinc.groupby(['HINCreclass','trip_mode']).agg({'EXPWGT':'sum'}).rename(columns={'EXPWGT':'QUANTITY'}).reset_index()\n",
    "\n",
    "# surveyinc.to_csv(\"C:/Users/sbuchhorn/Desktop/dataviz/abm_validation/abm_model_data/surveyinc.csv\",index=False)\n",
    "\n",
    "# # distance\n",
    "# distSkim = pd.read_csv(r'S:\\AdminGroups\\ResearchAnalysis\\BER\\ABM\\FY18\\validation\\data\\correspondance\\distSkim.csv')\n",
    "# surveydf.loc[:,'ID'] = surveydf['ORIG_TAZ'].astype(str) + \"-\" + surveydf['DEST_TAZ'].astype(str)\n",
    "# distSkim.loc[:,'ID'] = distSkim['ORIG'].astype(str) + \"-\" + distSkim[' DEST'].astype(str)\n",
    "# #dist Skim\n",
    "# surveyDist = surveydf.merge(distSkim,how='left',left_on='ID',right_on=\"ID\")\n",
    "# surveyDist['Dist (Miles)'] = surveyDist[' DIST'].map(classdist)\n",
    "# surveyDist.groupby(['Dist (Miles)','trip_purpose']).agg({'EXPWGT':'sum'}).rename(columns={'EXPWGT':'QUANTITY'}).reset_index()\n"
   ]
  },
  {
   "cell_type": "markdown",
   "metadata": {},
   "source": [
    "## itrips"
   ]
  },
  {
   "cell_type": "code",
   "execution_count": 11,
   "metadata": {},
   "outputs": [],
   "source": [
    "output_dir = 'S:/AdminGroups/ResearchAnalysis/DataViz/abm_viz_report/modeldata_2010_calibration/raw/'\n",
    "tap_dir = 'S:/AdminGroups/ResearchAnalysis/DataViz/abm_viz_report/modeldata_2010_calibration/raw/archive/'"
   ]
  },
  {
   "cell_type": "code",
   "execution_count": 18,
   "metadata": {},
   "outputs": [],
   "source": [
    "expansion_size = 5"
   ]
  },
  {
   "cell_type": "code",
   "execution_count": 89,
   "metadata": {},
   "outputs": [],
   "source": [
    "iTripscsv = pd.read_csv(os.path.join(output_dir,'indivTripData_1.csv')\n",
    "                     ,usecols = [u'hh_id',u'person_id',u'tour_purpose'\n",
    "                                 , u'trip_mode', u'tour_mode', u'orig_taz', u'dest_taz',u'orig_walk_segment'\n",
    "                                 ,u'orig_purpose',u'dest_purpose',u'board_tap',u'orig_maz'\n",
    "                                 , u'alight_tap'])"
   ]
  },
  {
   "cell_type": "code",
   "execution_count": 90,
   "metadata": {},
   "outputs": [
    {
     "data": {
      "text/plain": [
       "5198172"
      ]
     },
     "execution_count": 90,
     "metadata": {},
     "output_type": "execute_result"
    }
   ],
   "source": [
    "len(iTripscsv)"
   ]
  },
  {
   "cell_type": "code",
   "execution_count": 99,
   "metadata": {},
   "outputs": [
    {
     "data": {
      "text/plain": [
       "25990860"
      ]
     },
     "execution_count": 99,
     "metadata": {},
     "output_type": "execute_result"
    }
   ],
   "source": [
    "len(iTripscsv) * 5"
   ]
  },
  {
   "cell_type": "code",
   "execution_count": 6,
   "metadata": {},
   "outputs": [],
   "source": [
    "jTrips = pd.read_csv(os.path.join(output_dir,'jointTripData_1.csv')\n",
    "                     ,usecols = [u'hh_id',u'tour_purpose',u'orig_maz',u'orig_walk_segment'\n",
    "                                 , u'trip_mode', u'tour_mode', u'orig_taz', u'dest_taz'\n",
    "                                 ,u'orig_purpose',u'dest_purpose',u'board_tap', u'alight_tap'\n",
    "                                ,u'num_participants'])"
   ]
  },
  {
   "cell_type": "code",
   "execution_count": 91,
   "metadata": {},
   "outputs": [
    {
     "data": {
      "text/plain": [
       "1164928"
      ]
     },
     "execution_count": 91,
     "metadata": {},
     "output_type": "execute_result"
    }
   ],
   "source": [
    "len(jTrips)"
   ]
  },
  {
   "cell_type": "code",
   "execution_count": 100,
   "metadata": {},
   "outputs": [
    {
     "data": {
      "text/plain": [
       "5824640"
      ]
     },
     "execution_count": 100,
     "metadata": {},
     "output_type": "execute_result"
    }
   ],
   "source": [
    "len(jTrips) * 5"
   ]
  },
  {
   "cell_type": "code",
   "execution_count": 12,
   "metadata": {},
   "outputs": [],
   "source": [
    "tap = pd.read_csv(os.path.join(tap_dir,'tap_attributes.csv')\n",
    "                 ,usecols=['tap_id','f_pnr_sp','if_pnr_sp','metra_rail','cta_rail','bus_exp','bus_local','taz09'])"
   ]
  },
  {
   "cell_type": "code",
   "execution_count": 17,
   "metadata": {},
   "outputs": [],
   "source": [
    "tazgroups = pd.read_csv(r'S:\\AdminGroups\\ResearchAnalysis\\BER\\ABM\\FY18\\data\\zoneGroups.txt')\n",
    "distSkim = pd.read_csv(r'S:\\AdminGroups\\ResearchAnalysis\\BER\\ABM\\FY18\\validation\\data\\correspondance\\distSkim.csv')"
   ]
  },
  {
   "cell_type": "code",
   "execution_count": 7,
   "metadata": {},
   "outputs": [
    {
     "name": "stderr",
     "output_type": "stream",
     "text": [
      "C:\\Users\\sbuchhorn\\AppData\\Local\\Continuum\\anaconda3\\lib\\site-packages\\pandas\\core\\frame.py:6692: FutureWarning: Sorting because non-concatenation axis is not aligned. A future version\n",
      "of pandas will change to not sort by default.\n",
      "\n",
      "To accept the future behavior, pass 'sort=False'.\n",
      "\n",
      "To retain the current behavior and silence the warning, pass 'sort=True'.\n",
      "\n",
      "  sort=sort)\n"
     ]
    }
   ],
   "source": [
    "iTripsjTrips = iTripscsv.append(jTrips)"
   ]
  },
  {
   "cell_type": "code",
   "execution_count": 8,
   "metadata": {},
   "outputs": [],
   "source": [
    "iTrips_ = iTripsjTrips.loc[(iTripsjTrips['trip_mode'] > 0) & (iTripsjTrips['tour_mode'] > 0)]"
   ]
  },
  {
   "cell_type": "code",
   "execution_count": 104,
   "metadata": {},
   "outputs": [
    {
     "data": {
      "text/plain": [
       "31812590"
      ]
     },
     "execution_count": 104,
     "metadata": {},
     "output_type": "execute_result"
    }
   ],
   "source": [
    "len(iTrips_) * 5"
   ]
  },
  {
   "cell_type": "code",
   "execution_count": 13,
   "metadata": {},
   "outputs": [],
   "source": [
    "iTripso = iTrips_.merge(tap[['tap_id','metra_rail','cta_rail','bus_exp','bus_local','taz09']],\n",
    "                        how='left',left_on='board_tap',right_on = 'tap_id')"
   ]
  },
  {
   "cell_type": "code",
   "execution_count": 14,
   "metadata": {},
   "outputs": [],
   "source": [
    "iTripso.columns = iTrips_.columns.tolist() + ['tap_idb','metra_railb','cta_railb','bus_expb','bus_localb','taz09b']"
   ]
  },
  {
   "cell_type": "code",
   "execution_count": 33,
   "metadata": {},
   "outputs": [],
   "source": [
    "iTrips = iTripso.merge(tap[['tap_id','metra_rail','cta_rail','bus_exp','bus_local','taz09']],\n",
    "                       how='left',left_on='alight_tap',right_on = 'tap_id')"
   ]
  },
  {
   "cell_type": "code",
   "execution_count": 34,
   "metadata": {},
   "outputs": [],
   "source": [
    "iTrips.columns = iTripso.columns.tolist() + ['tap_ida','metra_raila','cta_raila','bus_expa','bus_locala','taz09a']"
   ]
  },
  {
   "cell_type": "code",
   "execution_count": 35,
   "metadata": {},
   "outputs": [],
   "source": [
    "iTrips.loc[:,'Model'] = expansion_size\n",
    "\n",
    "iTrips.loc[:,'trip_purpose'] = 'na'\n",
    "iTrips.loc[:,'trip_purpose'] = np.where(iTrips['dest_purpose'] == 'Home',iTrips['orig_purpose'],iTrips['dest_purpose'])\n",
    "iTrips.loc[:,'trip_purpose'] = np.where(iTrips['trip_purpose'] == 'Discretionary','discretionary',iTrips['trip_purpose'])\n",
    "iTrips.loc[:,'trip_purpose'] = np.where(iTrips['trip_purpose'] == 'EatingOut','eatingout',iTrips['trip_purpose'])\n",
    "iTrips.loc[:,'trip_purpose'] = np.where(iTrips['trip_purpose'] == 'Escort','escort',iTrips['trip_purpose'])\n",
    "iTrips.loc[:,'trip_purpose'] = np.where(iTrips['trip_purpose'] == 'Maintenance','maintenance',iTrips['trip_purpose'])\n",
    "iTrips.loc[:,'trip_purpose'] = np.where(iTrips['trip_purpose'] == 'Shop','shop',iTrips['trip_purpose'])\n",
    "iTrips.loc[:,'trip_purpose'] = np.where(iTrips['trip_purpose'] == 'University','university',iTrips['trip_purpose'])\n",
    "iTrips.loc[:,'trip_purpose'] = np.where(iTrips['trip_purpose'] == 'Visiting','visiting',iTrips['trip_purpose'])\n",
    "iTrips.loc[:,'trip_purpose'] = np.where(iTrips['trip_purpose'] == 'Work','work',iTrips['trip_purpose'])\n",
    "iTrips.loc[:,'trip_purpose'] = np.where(iTrips['trip_purpose'] == 'work related','work-based',iTrips['trip_purpose'])"
   ]
  },
  {
   "cell_type": "code",
   "execution_count": 36,
   "metadata": {},
   "outputs": [],
   "source": [
    "iTrips['trip_mode_code'] = iTrips['trip_mode']"
   ]
  },
  {
   "cell_type": "code",
   "execution_count": 37,
   "metadata": {},
   "outputs": [],
   "source": [
    "iTrips[['trip_mode']] = iTrips[['trip_mode']].replace([1,2,3,4,5,6,7,8,9,10,11,12,13,14]\n",
    "                     ,['Drive alone free','Drive alone pay'\n",
    "                       ,'Shared ride 2 free','Shared ride 2 pay'\n",
    "                       ,'Shared ride 3+ free','Shared ride 3+ pay'\n",
    "                       ,'Walk','Bike','Walk to transit'\n",
    "                       ,'Walk to transit','Drive to transit'\n",
    "                       ,'Drive to transit','Taxi','School bus'])"
   ]
  },
  {
   "cell_type": "code",
   "execution_count": 38,
   "metadata": {},
   "outputs": [],
   "source": [
    "# combines transit access modes - this is what we'll mostly use\n",
    "iTrips[['trip_mode_transit']] = iTrips[['trip_mode_code']].replace([1,2,3,4,5,6,7,8,9,10,11,12,13,14]\n",
    "                     ,['Drive alone free','Drive alone pay'\n",
    "                       ,'Shared ride 2 free','Shared ride 2 pay'\n",
    "                       ,'Shared ride 3+ free','Shared ride 3+ pay'\n",
    "                       ,'Walk','Bike','Transit'\n",
    "                       ,'Transit','Transit'\n",
    "                       ,'Transit','Taxi','School bus'])"
   ]
  },
  {
   "cell_type": "code",
   "execution_count": 42,
   "metadata": {},
   "outputs": [],
   "source": [
    "iTrips.to_csv(\"D:/dataviz/abm_model_data/itrips.csv\")"
   ]
  },
  {
   "cell_type": "markdown",
   "metadata": {},
   "source": [
    "## Data for csv1314_tripmode.csv"
   ]
  },
  {
   "cell_type": "code",
   "execution_count": 282,
   "metadata": {},
   "outputs": [],
   "source": [
    "modeagg = iTrips.groupby('trip_mode_transit').agg({'hh_id':'count'}) * expansion_size"
   ]
  },
  {
   "cell_type": "code",
   "execution_count": 283,
   "metadata": {},
   "outputs": [],
   "source": [
    "b = modeagg.transpose()"
   ]
  },
  {
   "cell_type": "code",
   "execution_count": 284,
   "metadata": {},
   "outputs": [],
   "source": [
    "b['sharedridepay'] = b['Shared ride 3+ pay'] + b['Shared ride 2 pay']"
   ]
  },
  {
   "cell_type": "code",
   "execution_count": 285,
   "metadata": {},
   "outputs": [],
   "source": [
    "c = b.transpose().sort_values('hh_id',ascending=False).transpose()"
   ]
  },
  {
   "cell_type": "code",
   "execution_count": 318,
   "metadata": {},
   "outputs": [],
   "source": [
    "d = c.drop(['Shared ride 3+ pay', 'Shared ride 2 pay'],axis=1)"
   ]
  },
  {
   "cell_type": "code",
   "execution_count": 319,
   "metadata": {},
   "outputs": [
    {
     "data": {
      "text/html": [
       "<div>\n",
       "<style scoped>\n",
       "    .dataframe tbody tr th:only-of-type {\n",
       "        vertical-align: middle;\n",
       "    }\n",
       "\n",
       "    .dataframe tbody tr th {\n",
       "        vertical-align: top;\n",
       "    }\n",
       "\n",
       "    .dataframe thead th {\n",
       "        text-align: right;\n",
       "    }\n",
       "</style>\n",
       "<table border=\"1\" class=\"dataframe\">\n",
       "  <thead>\n",
       "    <tr style=\"text-align: right;\">\n",
       "      <th>trip_mode_transit</th>\n",
       "      <th>Drive alone free</th>\n",
       "      <th>Shared ride 2 free</th>\n",
       "      <th>Shared ride 3+ free</th>\n",
       "      <th>Walk</th>\n",
       "      <th>Transit</th>\n",
       "      <th>School bus</th>\n",
       "      <th>Bike</th>\n",
       "      <th>Drive alone pay</th>\n",
       "      <th>sharedridepay</th>\n",
       "      <th>Taxi</th>\n",
       "    </tr>\n",
       "  </thead>\n",
       "  <tbody>\n",
       "    <tr>\n",
       "      <th>hh_id</th>\n",
       "      <td>13271835</td>\n",
       "      <td>5680670</td>\n",
       "      <td>5146245</td>\n",
       "      <td>4420785</td>\n",
       "      <td>1626340</td>\n",
       "      <td>878250</td>\n",
       "      <td>329390</td>\n",
       "      <td>256355</td>\n",
       "      <td>102950</td>\n",
       "      <td>99770</td>\n",
       "    </tr>\n",
       "  </tbody>\n",
       "</table>\n",
       "</div>"
      ],
      "text/plain": [
       "trip_mode_transit  Drive alone free  Shared ride 2 free  Shared ride 3+ free  \\\n",
       "hh_id                      13271835             5680670              5146245   \n",
       "\n",
       "trip_mode_transit     Walk  Transit  School bus    Bike  Drive alone pay  \\\n",
       "hh_id              4420785  1626340      878250  329390           256355   \n",
       "\n",
       "trip_mode_transit  sharedridepay   Taxi  \n",
       "hh_id                     102950  99770  "
      ]
     },
     "execution_count": 319,
     "metadata": {},
     "output_type": "execute_result"
    }
   ],
   "source": [
    "d"
   ]
  },
  {
   "cell_type": "code",
   "execution_count": 320,
   "metadata": {},
   "outputs": [],
   "source": [
    "d.to_clipboard()"
   ]
  },
  {
   "cell_type": "code",
   "execution_count": 78,
   "metadata": {},
   "outputs": [
    {
     "data": {
      "text/plain": [
       "hh_id    31812590\n",
       "dtype: int64"
      ]
     },
     "execution_count": 78,
     "metadata": {},
     "output_type": "execute_result"
    }
   ],
   "source": [
    "d.sum(axis=1)"
   ]
  },
  {
   "cell_type": "markdown",
   "metadata": {},
   "source": [
    "## Data for csv9_mode_person.csv"
   ]
  },
  {
   "cell_type": "code",
   "execution_count": 79,
   "metadata": {},
   "outputs": [],
   "source": [
    "# single person trips only"
   ]
  },
  {
   "cell_type": "code",
   "execution_count": 80,
   "metadata": {},
   "outputs": [],
   "source": [
    "perm = pd.read_csv(output_dir + \"personData_1.csv\")"
   ]
  },
  {
   "cell_type": "code",
   "execution_count": 88,
   "metadata": {},
   "outputs": [
    {
     "data": {
      "text/plain": [
       "2048052"
      ]
     },
     "execution_count": 88,
     "metadata": {},
     "output_type": "execute_result"
    }
   ],
   "source": [
    "len(perm)"
   ]
  },
  {
   "cell_type": "code",
   "execution_count": 81,
   "metadata": {},
   "outputs": [],
   "source": [
    "modwper = iTrips.merge(perm,on='person_id')"
   ]
  },
  {
   "cell_type": "code",
   "execution_count": 84,
   "metadata": {},
   "outputs": [
    {
     "data": {
      "text/plain": [
       "Index(['alight_tap', 'board_tap', 'dest_purpose', 'dest_taz', 'hh_id_x',\n",
       "       'num_participants', 'orig_maz', 'orig_purpose', 'orig_taz',\n",
       "       'orig_walk_segment', 'person_id', 'tour_mode', 'tour_purpose',\n",
       "       'trip_mode', 'tap_idb', 'metra_railb', 'cta_railb', 'bus_expb',\n",
       "       'bus_localb', 'taz09b', 'tap_ida', 'metra_raila', 'cta_raila',\n",
       "       'bus_expa', 'bus_locala', 'taz09a', 'Model', 'trip_purpose',\n",
       "       'trip_mode_code', 'trip_mode_transit', 'hh_id_y', 'person_num', 'age',\n",
       "       'gender', 'type', 'value_of_time', 'fp_choice', 'activity_pattern',\n",
       "       'imf_choice', 'inmf_choice', 'walk_time_weight', 'walk_speed',\n",
       "       'max_walk', 'user_class_work_walk', 'user_class_work_pnr',\n",
       "       'user_class_work_knr', 'user_class_non_work_walk',\n",
       "       'user_class_non_work_pnr', 'user_class_non_work_knr'],\n",
       "      dtype='object')"
      ]
     },
     "execution_count": 84,
     "metadata": {},
     "output_type": "execute_result"
    }
   ],
   "source": [
    "modwper.columns"
   ]
  },
  {
   "cell_type": "code",
   "execution_count": 86,
   "metadata": {},
   "outputs": [
    {
     "data": {
      "text/plain": [
       "Series([], Name: num_participants, dtype: int64)"
      ]
     },
     "execution_count": 86,
     "metadata": {},
     "output_type": "execute_result"
    }
   ],
   "source": [
    "modwper.num_participants.value_counts()"
   ]
  },
  {
   "cell_type": "code",
   "execution_count": 87,
   "metadata": {},
   "outputs": [
    {
     "data": {
      "text/plain": [
       "5198172"
      ]
     },
     "execution_count": 87,
     "metadata": {},
     "output_type": "execute_result"
    }
   ],
   "source": [
    "len(modwper)"
   ]
  },
  {
   "cell_type": "code",
   "execution_count": 98,
   "metadata": {},
   "outputs": [
    {
     "data": {
      "text/plain": [
       "25990860"
      ]
     },
     "execution_count": 98,
     "metadata": {},
     "output_type": "execute_result"
    }
   ],
   "source": [
    "len(modwper) * 5"
   ]
  },
  {
   "cell_type": "code",
   "execution_count": 108,
   "metadata": {},
   "outputs": [],
   "source": [
    "a = (modwper.groupby(['trip_mode_transit','type']).agg({'trip_mode_transit':'count'}).rename(columns={'trip_mode_transit':'COUNT'}) * 5).reset_index()"
   ]
  },
  {
   "cell_type": "code",
   "execution_count": 117,
   "metadata": {},
   "outputs": [],
   "source": [
    "b = a.groupby('trip_mode_transit').agg({'COUNT':'sum'}).reset_index()"
   ]
  },
  {
   "cell_type": "code",
   "execution_count": 119,
   "metadata": {},
   "outputs": [],
   "source": [
    "b['type'] = 'All'"
   ]
  },
  {
   "cell_type": "code",
   "execution_count": 122,
   "metadata": {},
   "outputs": [
    {
     "name": "stderr",
     "output_type": "stream",
     "text": [
      "C:\\Users\\sbuchhorn\\AppData\\Local\\Continuum\\anaconda3\\lib\\site-packages\\pandas\\core\\frame.py:6692: FutureWarning: Sorting because non-concatenation axis is not aligned. A future version\n",
      "of pandas will change to not sort by default.\n",
      "\n",
      "To accept the future behavior, pass 'sort=False'.\n",
      "\n",
      "To retain the current behavior and silence the warning, pass 'sort=True'.\n",
      "\n",
      "  sort=sort)\n"
     ]
    }
   ],
   "source": [
    "c = a.append(b, ignore_index=True)"
   ]
  },
  {
   "cell_type": "code",
   "execution_count": 125,
   "metadata": {},
   "outputs": [],
   "source": [
    "surveyone = surveydf[surveydf['JOINT_STATUS'] == 0]"
   ]
  },
  {
   "cell_type": "code",
   "execution_count": 127,
   "metadata": {},
   "outputs": [],
   "source": [
    "smodetype = surveyone.groupby(['trip_mode','type']).agg({'EXPWGT':'sum'}).rename(columns={'EXPWGT':'QUANTITY'}).reset_index()"
   ]
  },
  {
   "cell_type": "code",
   "execution_count": 134,
   "metadata": {},
   "outputs": [],
   "source": [
    "smodetypeall = smodetype.groupby('trip_mode').agg({'QUANTITY':'sum'}).reset_index()"
   ]
  },
  {
   "cell_type": "code",
   "execution_count": 135,
   "metadata": {},
   "outputs": [],
   "source": [
    "smodetypeall['type'] = 'All'"
   ]
  },
  {
   "cell_type": "code",
   "execution_count": 136,
   "metadata": {},
   "outputs": [
    {
     "name": "stderr",
     "output_type": "stream",
     "text": [
      "C:\\Users\\sbuchhorn\\AppData\\Local\\Continuum\\anaconda3\\lib\\site-packages\\pandas\\core\\frame.py:6692: FutureWarning: Sorting because non-concatenation axis is not aligned. A future version\n",
      "of pandas will change to not sort by default.\n",
      "\n",
      "To accept the future behavior, pass 'sort=False'.\n",
      "\n",
      "To retain the current behavior and silence the warning, pass 'sort=True'.\n",
      "\n",
      "  sort=sort)\n"
     ]
    }
   ],
   "source": [
    "smodecombo = smodetype.append(smodetypeall, ignore_index=True)"
   ]
  },
  {
   "cell_type": "code",
   "execution_count": 131,
   "metadata": {},
   "outputs": [],
   "source": [
    "d = c.sort_values('COUNT',ascending=False).reset_index(drop=True)"
   ]
  },
  {
   "cell_type": "code",
   "execution_count": 139,
   "metadata": {},
   "outputs": [
    {
     "data": {
      "text/html": [
       "<div>\n",
       "<style scoped>\n",
       "    .dataframe tbody tr th:only-of-type {\n",
       "        vertical-align: middle;\n",
       "    }\n",
       "\n",
       "    .dataframe tbody tr th {\n",
       "        vertical-align: top;\n",
       "    }\n",
       "\n",
       "    .dataframe thead th {\n",
       "        text-align: right;\n",
       "    }\n",
       "</style>\n",
       "<table border=\"1\" class=\"dataframe\">\n",
       "  <thead>\n",
       "    <tr style=\"text-align: right;\">\n",
       "      <th></th>\n",
       "      <th>QUANTITY</th>\n",
       "      <th>trip_mode</th>\n",
       "      <th>type</th>\n",
       "    </tr>\n",
       "  </thead>\n",
       "  <tbody>\n",
       "    <tr>\n",
       "      <th>0</th>\n",
       "      <td>4978.354652</td>\n",
       "      <td>Bike</td>\n",
       "      <td>Child too young for school</td>\n",
       "    </tr>\n",
       "    <tr>\n",
       "      <th>1</th>\n",
       "      <td>95009.707931</td>\n",
       "      <td>Bike</td>\n",
       "      <td>Full-time worker</td>\n",
       "    </tr>\n",
       "    <tr>\n",
       "      <th>2</th>\n",
       "      <td>20288.397909</td>\n",
       "      <td>Bike</td>\n",
       "      <td>Non-worker</td>\n",
       "    </tr>\n",
       "    <tr>\n",
       "      <th>3</th>\n",
       "      <td>26230.853185</td>\n",
       "      <td>Bike</td>\n",
       "      <td>Part-time worker</td>\n",
       "    </tr>\n",
       "    <tr>\n",
       "      <th>4</th>\n",
       "      <td>9395.145395</td>\n",
       "      <td>Bike</td>\n",
       "      <td>Retired</td>\n",
       "    </tr>\n",
       "  </tbody>\n",
       "</table>\n",
       "</div>"
      ],
      "text/plain": [
       "       QUANTITY trip_mode                        type\n",
       "0   4978.354652      Bike  Child too young for school\n",
       "1  95009.707931      Bike            Full-time worker\n",
       "2  20288.397909      Bike                  Non-worker\n",
       "3  26230.853185      Bike            Part-time worker\n",
       "4   9395.145395      Bike                     Retired"
      ]
     },
     "execution_count": 139,
     "metadata": {},
     "output_type": "execute_result"
    }
   ],
   "source": [
    "smodecombo.head()"
   ]
  },
  {
   "cell_type": "code",
   "execution_count": 141,
   "metadata": {},
   "outputs": [],
   "source": [
    "e = d.merge(smodecombo,left_on=[\"trip_mode_transit\",'type'],right_on=['trip_mode','type'])"
   ]
  },
  {
   "cell_type": "code",
   "execution_count": 142,
   "metadata": {},
   "outputs": [
    {
     "data": {
      "text/html": [
       "<div>\n",
       "<style scoped>\n",
       "    .dataframe tbody tr th:only-of-type {\n",
       "        vertical-align: middle;\n",
       "    }\n",
       "\n",
       "    .dataframe tbody tr th {\n",
       "        vertical-align: top;\n",
       "    }\n",
       "\n",
       "    .dataframe thead th {\n",
       "        text-align: right;\n",
       "    }\n",
       "</style>\n",
       "<table border=\"1\" class=\"dataframe\">\n",
       "  <thead>\n",
       "    <tr style=\"text-align: right;\">\n",
       "      <th></th>\n",
       "      <th>COUNT</th>\n",
       "      <th>trip_mode_transit</th>\n",
       "      <th>type</th>\n",
       "      <th>QUANTITY</th>\n",
       "      <th>trip_mode</th>\n",
       "    </tr>\n",
       "  </thead>\n",
       "  <tbody>\n",
       "    <tr>\n",
       "      <th>0</th>\n",
       "      <td>13271835</td>\n",
       "      <td>Drive alone free</td>\n",
       "      <td>All</td>\n",
       "      <td>1.337389e+07</td>\n",
       "      <td>Drive alone free</td>\n",
       "    </tr>\n",
       "    <tr>\n",
       "      <th>1</th>\n",
       "      <td>7586910</td>\n",
       "      <td>Drive alone free</td>\n",
       "      <td>Full-time worker</td>\n",
       "      <td>7.717476e+06</td>\n",
       "      <td>Drive alone free</td>\n",
       "    </tr>\n",
       "    <tr>\n",
       "      <th>2</th>\n",
       "      <td>3880330</td>\n",
       "      <td>Walk</td>\n",
       "      <td>All</td>\n",
       "      <td>2.780561e+06</td>\n",
       "      <td>Walk</td>\n",
       "    </tr>\n",
       "    <tr>\n",
       "      <th>3</th>\n",
       "      <td>3074575</td>\n",
       "      <td>Shared ride 3+ free</td>\n",
       "      <td>All</td>\n",
       "      <td>2.608535e+06</td>\n",
       "      <td>Shared ride 3+ free</td>\n",
       "    </tr>\n",
       "    <tr>\n",
       "      <th>4</th>\n",
       "      <td>2674540</td>\n",
       "      <td>Shared ride 2 free</td>\n",
       "      <td>All</td>\n",
       "      <td>3.802079e+06</td>\n",
       "      <td>Shared ride 2 free</td>\n",
       "    </tr>\n",
       "  </tbody>\n",
       "</table>\n",
       "</div>"
      ],
      "text/plain": [
       "      COUNT    trip_mode_transit              type      QUANTITY  \\\n",
       "0  13271835     Drive alone free               All  1.337389e+07   \n",
       "1   7586910     Drive alone free  Full-time worker  7.717476e+06   \n",
       "2   3880330                 Walk               All  2.780561e+06   \n",
       "3   3074575  Shared ride 3+ free               All  2.608535e+06   \n",
       "4   2674540   Shared ride 2 free               All  3.802079e+06   \n",
       "\n",
       "             trip_mode  \n",
       "0     Drive alone free  \n",
       "1     Drive alone free  \n",
       "2                 Walk  \n",
       "3  Shared ride 3+ free  \n",
       "4   Shared ride 2 free  "
      ]
     },
     "execution_count": 142,
     "metadata": {},
     "output_type": "execute_result"
    }
   ],
   "source": [
    "e.head()"
   ]
  },
  {
   "cell_type": "code",
   "execution_count": 144,
   "metadata": {},
   "outputs": [],
   "source": [
    "f = e.rename({'trip_mode_transit':'Index','COUNT':'Model 01','QUANTITY':'Survey 01','type':'Category'},axis=1)"
   ]
  },
  {
   "cell_type": "code",
   "execution_count": 147,
   "metadata": {},
   "outputs": [],
   "source": [
    "f = f[['Index','Model 01','Survey 01','Category']]"
   ]
  },
  {
   "cell_type": "code",
   "execution_count": 148,
   "metadata": {},
   "outputs": [],
   "source": [
    "f['Title'] = f['Category']"
   ]
  },
  {
   "cell_type": "code",
   "execution_count": 150,
   "metadata": {},
   "outputs": [],
   "source": [
    "f.to_clipboard(excel=True)"
   ]
  },
  {
   "cell_type": "markdown",
   "metadata": {},
   "source": [
    "## Data for csv10_mode_income"
   ]
  },
  {
   "cell_type": "code",
   "execution_count": 152,
   "metadata": {},
   "outputs": [],
   "source": [
    "hh = pd.read_csv(output_dir + 'hhData_1.csv')\n",
    "modwhh = iTrips.merge(hh,on='hh_id')"
   ]
  },
  {
   "cell_type": "code",
   "execution_count": 153,
   "metadata": {},
   "outputs": [],
   "source": [
    "def classincome(x):\n",
    "   if x < 35000:\n",
    "       return 1\n",
    "   elif x < 50000:\n",
    "       return 2\n",
    "   elif x < 75000:\n",
    "       return 3\n",
    "   elif x < 100000:\n",
    "       return 4\n",
    "   elif x >= 100000:\n",
    "       return 5"
   ]
  },
  {
   "cell_type": "code",
   "execution_count": 154,
   "metadata": {},
   "outputs": [],
   "source": [
    "modwhh['incomeclass'] = modwhh['income'].map(classincome)"
   ]
  },
  {
   "cell_type": "code",
   "execution_count": 165,
   "metadata": {},
   "outputs": [],
   "source": [
    "a = (modwhh.groupby(['incomeclass','trip_mode_transit']).agg({'trip_mode_transit':'count'})*5).rename(columns={'trip_mode_transit':'COUNT'}).reset_index()"
   ]
  },
  {
   "cell_type": "code",
   "execution_count": 166,
   "metadata": {},
   "outputs": [
    {
     "name": "stderr",
     "output_type": "stream",
     "text": [
      "C:\\Users\\sbuchhorn\\AppData\\Local\\Continuum\\anaconda3\\lib\\site-packages\\pandas\\core\\frame.py:6692: FutureWarning: Sorting because non-concatenation axis is not aligned. A future version\n",
      "of pandas will change to not sort by default.\n",
      "\n",
      "To accept the future behavior, pass 'sort=False'.\n",
      "\n",
      "To retain the current behavior and silence the warning, pass 'sort=True'.\n",
      "\n",
      "  sort=sort)\n"
     ]
    }
   ],
   "source": [
    "b = a.groupby('trip_mode_transit').agg({'COUNT':'sum'}).reset_index()\n",
    "b['incomeclass'] = 'All'\n",
    "c = a.append(b, ignore_index=True)"
   ]
  },
  {
   "cell_type": "code",
   "execution_count": 170,
   "metadata": {},
   "outputs": [],
   "source": [
    "c.sort_values('COUNT',ascending=False).to_clipboard()"
   ]
  },
  {
   "cell_type": "markdown",
   "metadata": {},
   "source": [
    "## Data for csv5_mode_purpose"
   ]
  },
  {
   "cell_type": "code",
   "execution_count": 190,
   "metadata": {},
   "outputs": [],
   "source": [
    "a = (iTrips.groupby(['trip_mode_transit','trip_purpose']).agg({'trip_purpose':'count'}) * 5).rename(columns={'trip_purpose':'COUNT'}).reset_index()"
   ]
  },
  {
   "cell_type": "code",
   "execution_count": 191,
   "metadata": {},
   "outputs": [
    {
     "name": "stderr",
     "output_type": "stream",
     "text": [
      "C:\\Users\\sbuchhorn\\AppData\\Local\\Continuum\\anaconda3\\lib\\site-packages\\pandas\\core\\frame.py:6692: FutureWarning: Sorting because non-concatenation axis is not aligned. A future version\n",
      "of pandas will change to not sort by default.\n",
      "\n",
      "To accept the future behavior, pass 'sort=False'.\n",
      "\n",
      "To retain the current behavior and silence the warning, pass 'sort=True'.\n",
      "\n",
      "  sort=sort)\n"
     ]
    }
   ],
   "source": [
    "b = a.groupby('trip_mode_transit').agg({'COUNT':'sum'}).reset_index()\n",
    "b['trip_purpose'] = 'All'\n",
    "c = a.append(b, ignore_index=True)"
   ]
  },
  {
   "cell_type": "code",
   "execution_count": 195,
   "metadata": {},
   "outputs": [],
   "source": [
    "c.sort_values('COUNT',ascending=False).to_clipboard()"
   ]
  },
  {
   "cell_type": "markdown",
   "metadata": {},
   "source": [
    "## Data for csv15_16"
   ]
  },
  {
   "cell_type": "code",
   "execution_count": 203,
   "metadata": {},
   "outputs": [],
   "source": [
    "a = (iTrips.groupby(['trip_purpose']).agg({'trip_purpose':'count'})*5).rename(columns={'trip_purpose':'COUNT'}).reset_index()"
   ]
  },
  {
   "cell_type": "code",
   "execution_count": 206,
   "metadata": {},
   "outputs": [],
   "source": [
    "a.sort_values('COUNT',ascending=False).transpose().to_clipboard()"
   ]
  },
  {
   "cell_type": "markdown",
   "metadata": {},
   "source": [
    "## Data for csv11"
   ]
  },
  {
   "cell_type": "code",
   "execution_count": 209,
   "metadata": {},
   "outputs": [],
   "source": [
    "a = (modwper.groupby(['type','trip_purpose']).agg({'trip_purpose':'count'})*5).rename(columns={'trip_purpose':'COUNT'}).reset_index()"
   ]
  },
  {
   "cell_type": "code",
   "execution_count": 210,
   "metadata": {},
   "outputs": [
    {
     "name": "stderr",
     "output_type": "stream",
     "text": [
      "C:\\Users\\sbuchhorn\\AppData\\Local\\Continuum\\anaconda3\\lib\\site-packages\\pandas\\core\\frame.py:6692: FutureWarning: Sorting because non-concatenation axis is not aligned. A future version\n",
      "of pandas will change to not sort by default.\n",
      "\n",
      "To accept the future behavior, pass 'sort=False'.\n",
      "\n",
      "To retain the current behavior and silence the warning, pass 'sort=True'.\n",
      "\n",
      "  sort=sort)\n"
     ]
    }
   ],
   "source": [
    "b = a.groupby('trip_purpose').agg({'COUNT':'sum'}).reset_index()\n",
    "b['type'] = 'All'\n",
    "c = a.append(b, ignore_index=True)"
   ]
  },
  {
   "cell_type": "code",
   "execution_count": 212,
   "metadata": {},
   "outputs": [],
   "source": [
    "c.to_clipboard()"
   ]
  },
  {
   "cell_type": "markdown",
   "metadata": {},
   "source": [
    "## Data for csv12 and 12b"
   ]
  },
  {
   "cell_type": "code",
   "execution_count": 213,
   "metadata": {},
   "outputs": [],
   "source": [
    "tazgroups = tazgroups.groupby('zone09').agg({'GROUP_':'first'})\n",
    "tazgroups = tazgroups.reset_index()"
   ]
  },
  {
   "cell_type": "code",
   "execution_count": 214,
   "metadata": {},
   "outputs": [],
   "source": [
    "iTripsTAZO = iTrips.merge(tazgroups,how='left',left_on='orig_taz',right_on=\"zone09\")\n",
    "iTripsTAZO.columns = iTrips.columns.tolist() + ['origzone09','origAreaGroup']\n",
    "#iTripsTAZO_ = iTripsTAZO.drop_duplicates('index')\n",
    "\n",
    "iTripsTAZOD = iTripsTAZO.merge(tazgroups,how='left',left_on='dest_taz',right_on=\"zone09\")\n",
    "iTripsTAZOD.columns = iTripsTAZO.columns.tolist() + ['destzone09','destAreaGroup']\n",
    "\n",
    "iTripsTAZOD.loc[:,'ID'] = iTripsTAZOD['origzone09'].astype(int).astype(str) + \"-\" +\\\n",
    "                    iTripsTAZOD['destzone09'].astype(int).astype(str)"
   ]
  },
  {
   "cell_type": "code",
   "execution_count": 215,
   "metadata": {},
   "outputs": [],
   "source": [
    "distSkim.loc[:,'ID'] = distSkim['ORIG'].astype(str) + \"-\" + distSkim[' DEST'].astype(str)"
   ]
  },
  {
   "cell_type": "code",
   "execution_count": 216,
   "metadata": {},
   "outputs": [],
   "source": [
    "iTripsDist = iTripsTAZOD.merge(distSkim,how='left',left_on='ID',right_on=\"ID\")"
   ]
  },
  {
   "cell_type": "code",
   "execution_count": 217,
   "metadata": {},
   "outputs": [],
   "source": [
    "def classdist(x):\n",
    "    if x < 2.5:\n",
    "        return 1\n",
    "    elif x < 5:\n",
    "        return 2\n",
    "    elif x < 10:\n",
    "        return 3\n",
    "    elif x < 15:\n",
    "        return 4\n",
    "    elif x < 20:\n",
    "        return 5\n",
    "    elif x < 25:\n",
    "        return 6\n",
    "    elif x < 30:\n",
    "        return 7\n",
    "    elif x >= 30:\n",
    "        return 8"
   ]
  },
  {
   "cell_type": "code",
   "execution_count": 218,
   "metadata": {},
   "outputs": [],
   "source": [
    "iTripsDist['distclass'] = iTripsDist[' DIST'].map(classdist)"
   ]
  },
  {
   "cell_type": "code",
   "execution_count": 233,
   "metadata": {},
   "outputs": [],
   "source": [
    "a = (iTripsDist.groupby(['distclass','trip_purpose']).agg({'trip_purpose':'count'})*5).rename(columns={'trip_purpose':'count'}).reset_index()"
   ]
  },
  {
   "cell_type": "code",
   "execution_count": 234,
   "metadata": {},
   "outputs": [
    {
     "name": "stderr",
     "output_type": "stream",
     "text": [
      "C:\\Users\\sbuchhorn\\AppData\\Local\\Continuum\\anaconda3\\lib\\site-packages\\pandas\\core\\frame.py:6692: FutureWarning: Sorting because non-concatenation axis is not aligned. A future version\n",
      "of pandas will change to not sort by default.\n",
      "\n",
      "To accept the future behavior, pass 'sort=False'.\n",
      "\n",
      "To retain the current behavior and silence the warning, pass 'sort=True'.\n",
      "\n",
      "  sort=sort)\n"
     ]
    }
   ],
   "source": [
    "b = a.groupby('trip_purpose').agg({'count':'sum'}).reset_index()\n",
    "b['distclass'] = 'All'\n",
    "c = a.append(b, ignore_index=True)"
   ]
  },
  {
   "cell_type": "code",
   "execution_count": 237,
   "metadata": {},
   "outputs": [],
   "source": [
    "c.to_clipboard()"
   ]
  },
  {
   "cell_type": "markdown",
   "metadata": {},
   "source": [
    "## data for csv7"
   ]
  },
  {
   "cell_type": "code",
   "execution_count": 267,
   "metadata": {},
   "outputs": [],
   "source": [
    "wortrips = iTripsDist[iTripsDist['trip_purpose'] == 'work']"
   ]
  },
  {
   "cell_type": "code",
   "execution_count": 268,
   "metadata": {},
   "outputs": [
    {
     "data": {
      "text/plain": [
       "1188015"
      ]
     },
     "execution_count": 268,
     "metadata": {},
     "output_type": "execute_result"
    }
   ],
   "source": [
    "len(wortrips)"
   ]
  },
  {
   "cell_type": "code",
   "execution_count": 269,
   "metadata": {},
   "outputs": [],
   "source": [
    "a = (wortrips.groupby(['distclass','trip_mode_transit']).agg({'trip_purpose':'count'})*5).rename(columns={'trip_purpose':'count'}).reset_index()"
   ]
  },
  {
   "cell_type": "code",
   "execution_count": 270,
   "metadata": {},
   "outputs": [
    {
     "name": "stderr",
     "output_type": "stream",
     "text": [
      "C:\\Users\\sbuchhorn\\AppData\\Local\\Continuum\\anaconda3\\lib\\site-packages\\pandas\\core\\frame.py:6692: FutureWarning: Sorting because non-concatenation axis is not aligned. A future version\n",
      "of pandas will change to not sort by default.\n",
      "\n",
      "To accept the future behavior, pass 'sort=False'.\n",
      "\n",
      "To retain the current behavior and silence the warning, pass 'sort=True'.\n",
      "\n",
      "  sort=sort)\n"
     ]
    }
   ],
   "source": [
    "b = a.groupby('distclass').agg({'count':'sum'}).reset_index()\n",
    "b['trip_mode_transit'] = 'All'\n",
    "c = a.append(b, ignore_index=True)"
   ]
  },
  {
   "cell_type": "code",
   "execution_count": 271,
   "metadata": {},
   "outputs": [],
   "source": [
    "c.to_clipboard()"
   ]
  },
  {
   "cell_type": "markdown",
   "metadata": {},
   "source": [
    "## data for csv8"
   ]
  },
  {
   "cell_type": "code",
   "execution_count": 272,
   "metadata": {},
   "outputs": [],
   "source": [
    "workonly = iTripsDist[iTripsDist['trip_purpose'] == 'work-based']"
   ]
  },
  {
   "cell_type": "code",
   "execution_count": 273,
   "metadata": {},
   "outputs": [
    {
     "data": {
      "text/plain": [
       "231638"
      ]
     },
     "execution_count": 273,
     "metadata": {},
     "output_type": "execute_result"
    }
   ],
   "source": [
    "len(workonly)"
   ]
  },
  {
   "cell_type": "code",
   "execution_count": 274,
   "metadata": {},
   "outputs": [],
   "source": [
    "a = (workonly.groupby(['distclass','trip_mode_transit']).agg({'trip_purpose':'count'})*5).rename(columns={'trip_purpose':'count'}).reset_index()"
   ]
  },
  {
   "cell_type": "code",
   "execution_count": 275,
   "metadata": {},
   "outputs": [
    {
     "name": "stderr",
     "output_type": "stream",
     "text": [
      "C:\\Users\\sbuchhorn\\AppData\\Local\\Continuum\\anaconda3\\lib\\site-packages\\pandas\\core\\frame.py:6692: FutureWarning: Sorting because non-concatenation axis is not aligned. A future version\n",
      "of pandas will change to not sort by default.\n",
      "\n",
      "To accept the future behavior, pass 'sort=False'.\n",
      "\n",
      "To retain the current behavior and silence the warning, pass 'sort=True'.\n",
      "\n",
      "  sort=sort)\n"
     ]
    }
   ],
   "source": [
    "b = a.groupby('distclass').agg({'count':'sum'}).reset_index()\n",
    "b['trip_mode_transit'] = 'All'\n",
    "c = a.append(b, ignore_index=True)"
   ]
  },
  {
   "cell_type": "code",
   "execution_count": 276,
   "metadata": {},
   "outputs": [],
   "source": [
    "c.to_clipboard()"
   ]
  },
  {
   "cell_type": "code",
   "execution_count": 279,
   "metadata": {},
   "outputs": [
    {
     "data": {
      "text/html": [
       "<div>\n",
       "<style scoped>\n",
       "    .dataframe tbody tr th:only-of-type {\n",
       "        vertical-align: middle;\n",
       "    }\n",
       "\n",
       "    .dataframe tbody tr th {\n",
       "        vertical-align: top;\n",
       "    }\n",
       "\n",
       "    .dataframe thead th {\n",
       "        text-align: right;\n",
       "    }\n",
       "</style>\n",
       "<table border=\"1\" class=\"dataframe\">\n",
       "  <thead>\n",
       "    <tr style=\"text-align: right;\">\n",
       "      <th></th>\n",
       "      <th>count</th>\n",
       "      <th>distclass</th>\n",
       "      <th>trip_mode_transit</th>\n",
       "    </tr>\n",
       "  </thead>\n",
       "  <tbody>\n",
       "    <tr>\n",
       "      <th>4</th>\n",
       "      <td>135</td>\n",
       "      <td>1</td>\n",
       "      <td>Taxi</td>\n",
       "    </tr>\n",
       "    <tr>\n",
       "      <th>13</th>\n",
       "      <td>420</td>\n",
       "      <td>2</td>\n",
       "      <td>Taxi</td>\n",
       "    </tr>\n",
       "    <tr>\n",
       "      <th>23</th>\n",
       "      <td>2045</td>\n",
       "      <td>3</td>\n",
       "      <td>Taxi</td>\n",
       "    </tr>\n",
       "    <tr>\n",
       "      <th>33</th>\n",
       "      <td>1470</td>\n",
       "      <td>4</td>\n",
       "      <td>Taxi</td>\n",
       "    </tr>\n",
       "    <tr>\n",
       "      <th>42</th>\n",
       "      <td>820</td>\n",
       "      <td>5</td>\n",
       "      <td>Taxi</td>\n",
       "    </tr>\n",
       "    <tr>\n",
       "      <th>51</th>\n",
       "      <td>550</td>\n",
       "      <td>6</td>\n",
       "      <td>Taxi</td>\n",
       "    </tr>\n",
       "    <tr>\n",
       "      <th>59</th>\n",
       "      <td>565</td>\n",
       "      <td>7</td>\n",
       "      <td>Taxi</td>\n",
       "    </tr>\n",
       "    <tr>\n",
       "      <th>67</th>\n",
       "      <td>2440</td>\n",
       "      <td>8</td>\n",
       "      <td>Taxi</td>\n",
       "    </tr>\n",
       "  </tbody>\n",
       "</table>\n",
       "</div>"
      ],
      "text/plain": [
       "    count  distclass trip_mode_transit\n",
       "4     135          1              Taxi\n",
       "13    420          2              Taxi\n",
       "23   2045          3              Taxi\n",
       "33   1470          4              Taxi\n",
       "42    820          5              Taxi\n",
       "51    550          6              Taxi\n",
       "59    565          7              Taxi\n",
       "67   2440          8              Taxi"
      ]
     },
     "execution_count": 279,
     "metadata": {},
     "output_type": "execute_result"
    }
   ],
   "source": [
    "c[c['trip_mode_transit'] == 'Taxi']"
   ]
  },
  {
   "cell_type": "code",
   "execution_count": null,
   "metadata": {},
   "outputs": [],
   "source": []
  }
 ],
 "metadata": {
  "kernelspec": {
   "display_name": "Python 3",
   "language": "python",
   "name": "python3"
  },
  "language_info": {
   "codemirror_mode": {
    "name": "ipython",
    "version": 3
   },
   "file_extension": ".py",
   "mimetype": "text/x-python",
   "name": "python",
   "nbconvert_exporter": "python",
   "pygments_lexer": "ipython3",
   "version": "3.6.5"
  }
 },
 "nbformat": 4,
 "nbformat_minor": 2
}
