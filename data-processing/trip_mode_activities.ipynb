{
 "cells": [
  {
   "cell_type": "markdown",
   "metadata": {},
   "source": [
    "# ABM Data Prep\n",
    "current version: September 19 2019"
   ]
  },
  {
   "cell_type": "code",
   "execution_count": 1,
   "metadata": {},
   "outputs": [],
   "source": [
    "import pandas as pd\n",
    "import os\n",
    "import numpy as np"
   ]
  },
  {
   "cell_type": "markdown",
   "metadata": {},
   "source": [
    "## Survey Data\n",
    "Several lines of summary outputs are shown for reference.  In practice, these results were saved and combined with model data in excel to create the final datasets.  "
   ]
  },
  {
   "cell_type": "code",
   "execution_count": 2,
   "metadata": {},
   "outputs": [
    {
     "name": "stderr",
     "output_type": "stream",
     "text": [
      "C:\\Users\\sbuchhorn\\AppData\\Local\\Continuum\\anaconda3\\lib\\site-packages\\IPython\\core\\interactiveshell.py:2785: DtypeWarning: Columns (84,85,86,87,88) have mixed types. Specify dtype option on import or set low_memory=False.\n",
      "  interactivity=interactivity, compiler=compiler, result=result)\n"
     ]
    }
   ],
   "source": [
    "surveydf = pd.read_csv('S:/AdminGroups/ResearchAnalysis/BER/ABM/FY18/_R_validation_notebook/data/survey/survey_trips_full.csv')"
   ]
  },
  {
   "cell_type": "code",
   "execution_count": 3,
   "metadata": {},
   "outputs": [],
   "source": [
    "purpose_dict = purpose_dict = {'discretionary':'Non-mandatory','eatingout':'Non-mandatory','escort':'Non-mandatory',\n",
    "                'maintenance':'Non-mandatory','school':'Mandatory','shop':'Non-mandatory','university':'Mandatory',\n",
    "                'visiting':'Non-mandatory','work':'Mandatory','work-based':'Non-mandatory'}"
   ]
  },
  {
   "cell_type": "code",
   "execution_count": 17,
   "metadata": {},
   "outputs": [
    {
     "data": {
      "text/html": [
       "<div>\n",
       "<style scoped>\n",
       "    .dataframe tbody tr th:only-of-type {\n",
       "        vertical-align: middle;\n",
       "    }\n",
       "\n",
       "    .dataframe tbody tr th {\n",
       "        vertical-align: top;\n",
       "    }\n",
       "\n",
       "    .dataframe thead th {\n",
       "        text-align: right;\n",
       "    }\n",
       "</style>\n",
       "<table border=\"1\" class=\"dataframe\">\n",
       "  <thead>\n",
       "    <tr style=\"text-align: right;\">\n",
       "      <th></th>\n",
       "      <th>trip_mode</th>\n",
       "      <th>QUANTITY</th>\n",
       "    </tr>\n",
       "  </thead>\n",
       "  <tbody>\n",
       "    <tr>\n",
       "      <th>0</th>\n",
       "      <td>Bike</td>\n",
       "      <td>2.748106e+05</td>\n",
       "    </tr>\n",
       "    <tr>\n",
       "      <th>1</th>\n",
       "      <td>Drive alone free</td>\n",
       "      <td>1.340106e+07</td>\n",
       "    </tr>\n",
       "    <tr>\n",
       "      <th>2</th>\n",
       "      <td>Drive alone pay</td>\n",
       "      <td>3.898055e+05</td>\n",
       "    </tr>\n",
       "    <tr>\n",
       "      <th>3</th>\n",
       "      <td>Drive to transit</td>\n",
       "      <td>1.774542e+05</td>\n",
       "    </tr>\n",
       "    <tr>\n",
       "      <th>4</th>\n",
       "      <td>School bus</td>\n",
       "      <td>7.478360e+05</td>\n",
       "    </tr>\n",
       "    <tr>\n",
       "      <th>5</th>\n",
       "      <td>Shared ride 2 free</td>\n",
       "      <td>6.531265e+06</td>\n",
       "    </tr>\n",
       "    <tr>\n",
       "      <th>6</th>\n",
       "      <td>Shared ride 2 pay</td>\n",
       "      <td>4.298708e+04</td>\n",
       "    </tr>\n",
       "    <tr>\n",
       "      <th>7</th>\n",
       "      <td>Shared ride 3+ free</td>\n",
       "      <td>5.499873e+06</td>\n",
       "    </tr>\n",
       "    <tr>\n",
       "      <th>8</th>\n",
       "      <td>Shared ride 3+ pay</td>\n",
       "      <td>2.087850e+04</td>\n",
       "    </tr>\n",
       "    <tr>\n",
       "      <th>9</th>\n",
       "      <td>Taxi</td>\n",
       "      <td>7.008415e+04</td>\n",
       "    </tr>\n",
       "    <tr>\n",
       "      <th>10</th>\n",
       "      <td>Walk</td>\n",
       "      <td>3.218236e+06</td>\n",
       "    </tr>\n",
       "    <tr>\n",
       "      <th>11</th>\n",
       "      <td>Walk to transit</td>\n",
       "      <td>1.348049e+06</td>\n",
       "    </tr>\n",
       "  </tbody>\n",
       "</table>\n",
       "</div>"
      ],
      "text/plain": [
       "              trip_mode      QUANTITY\n",
       "0                  Bike  2.748106e+05\n",
       "1      Drive alone free  1.340106e+07\n",
       "2       Drive alone pay  3.898055e+05\n",
       "3      Drive to transit  1.774542e+05\n",
       "4            School bus  7.478360e+05\n",
       "5    Shared ride 2 free  6.531265e+06\n",
       "6     Shared ride 2 pay  4.298708e+04\n",
       "7   Shared ride 3+ free  5.499873e+06\n",
       "8    Shared ride 3+ pay  2.087850e+04\n",
       "9                  Taxi  7.008415e+04\n",
       "10                 Walk  3.218236e+06\n",
       "11      Walk to transit  1.348049e+06"
      ]
     },
     "execution_count": 17,
     "metadata": {},
     "output_type": "execute_result"
    }
   ],
   "source": [
    "# Trip mode\n",
    "surveydf.groupby('trip_mode').agg({'EXPWGT':'sum'}).rename(columns={'EXPWGT':'QUANTITY'}).reset_index()"
   ]
  },
  {
   "cell_type": "code",
   "execution_count": 12,
   "metadata": {},
   "outputs": [
    {
     "data": {
      "text/plain": [
       "QUANTITY    3.172234e+07\n",
       "dtype: float64"
      ]
     },
     "execution_count": 12,
     "metadata": {},
     "output_type": "execute_result"
    }
   ],
   "source": [
    "surveydf.groupby('trip_mode').agg({'EXPWGT':'sum'}).rename(columns={'EXPWGT':'QUANTITY'}).sum()"
   ]
  },
  {
   "cell_type": "code",
   "execution_count": 24,
   "metadata": {},
   "outputs": [],
   "source": [
    "# mode x purpose\n",
    "x = surveydf.groupby(['trip_mode','trip_purpose']).agg({'EXPWGT':'sum'}).rename(columns={'EXPWGT':'QUANTITY'}).reset_index()\n",
    "x['Trips by purpose'] = x['trip_purpose'].map(purpose_dict)\n",
    "x.head()\n",
    "x.to_clipboard()"
   ]
  },
  {
   "cell_type": "code",
   "execution_count": 23,
   "metadata": {},
   "outputs": [
    {
     "data": {
      "text/plain": [
       "trip_mode       BikeBikeBikeBikeBikeBikeBikeBikeBikeBikeDrive ...\n",
       "trip_purpose    discretionaryeatingoutescortmaintenanceschools...\n",
       "QUANTITY                                              3.14943e+07\n",
       "dtype: object"
      ]
     },
     "execution_count": 23,
     "metadata": {},
     "output_type": "execute_result"
    }
   ],
   "source": [
    "surveydf.groupby(['trip_mode','trip_purpose']).agg({'EXPWGT':'sum'}).rename(columns={'EXPWGT':'QUANTITY'}).reset_index().sum()"
   ]
  },
  {
   "cell_type": "code",
   "execution_count": 31,
   "metadata": {},
   "outputs": [
    {
     "data": {
      "text/html": [
       "<div>\n",
       "<style scoped>\n",
       "    .dataframe tbody tr th:only-of-type {\n",
       "        vertical-align: middle;\n",
       "    }\n",
       "\n",
       "    .dataframe tbody tr th {\n",
       "        vertical-align: top;\n",
       "    }\n",
       "\n",
       "    .dataframe thead th {\n",
       "        text-align: right;\n",
       "    }\n",
       "</style>\n",
       "<table border=\"1\" class=\"dataframe\">\n",
       "  <thead>\n",
       "    <tr style=\"text-align: right;\">\n",
       "      <th></th>\n",
       "      <th>trip_purpose</th>\n",
       "      <th>QUANTITY</th>\n",
       "    </tr>\n",
       "  </thead>\n",
       "  <tbody>\n",
       "    <tr>\n",
       "      <th>0</th>\n",
       "      <td>discretionary</td>\n",
       "      <td>3.376778e+06</td>\n",
       "    </tr>\n",
       "    <tr>\n",
       "      <th>1</th>\n",
       "      <td>eatingout</td>\n",
       "      <td>2.535581e+06</td>\n",
       "    </tr>\n",
       "    <tr>\n",
       "      <th>2</th>\n",
       "      <td>escort</td>\n",
       "      <td>4.068983e+06</td>\n",
       "    </tr>\n",
       "    <tr>\n",
       "      <th>3</th>\n",
       "      <td>maintenance</td>\n",
       "      <td>4.689505e+06</td>\n",
       "    </tr>\n",
       "    <tr>\n",
       "      <th>4</th>\n",
       "      <td>school</td>\n",
       "      <td>2.490702e+06</td>\n",
       "    </tr>\n",
       "    <tr>\n",
       "      <th>5</th>\n",
       "      <td>shop</td>\n",
       "      <td>5.555766e+06</td>\n",
       "    </tr>\n",
       "    <tr>\n",
       "      <th>6</th>\n",
       "      <td>university</td>\n",
       "      <td>3.313851e+05</td>\n",
       "    </tr>\n",
       "    <tr>\n",
       "      <th>7</th>\n",
       "      <td>visiting</td>\n",
       "      <td>2.019572e+06</td>\n",
       "    </tr>\n",
       "    <tr>\n",
       "      <th>8</th>\n",
       "      <td>work</td>\n",
       "      <td>5.585900e+06</td>\n",
       "    </tr>\n",
       "    <tr>\n",
       "      <th>9</th>\n",
       "      <td>work-based</td>\n",
       "      <td>9.618548e+05</td>\n",
       "    </tr>\n",
       "  </tbody>\n",
       "</table>\n",
       "</div>"
      ],
      "text/plain": [
       "    trip_purpose      QUANTITY\n",
       "0  discretionary  3.376778e+06\n",
       "1      eatingout  2.535581e+06\n",
       "2         escort  4.068983e+06\n",
       "3    maintenance  4.689505e+06\n",
       "4         school  2.490702e+06\n",
       "5           shop  5.555766e+06\n",
       "6     university  3.313851e+05\n",
       "7       visiting  2.019572e+06\n",
       "8           work  5.585900e+06\n",
       "9     work-based  9.618548e+05"
      ]
     },
     "execution_count": 31,
     "metadata": {},
     "output_type": "execute_result"
    }
   ],
   "source": [
    "# Trip Activities\n",
    "surveydf.groupby('trip_purpose').agg({'EXPWGT':'sum'}).rename(columns={'EXPWGT':'QUANTITY'}).reset_index()"
   ]
  },
  {
   "cell_type": "code",
   "execution_count": 5,
   "metadata": {},
   "outputs": [
    {
     "data": {
      "text/html": [
       "<div>\n",
       "<style scoped>\n",
       "    .dataframe tbody tr th:only-of-type {\n",
       "        vertical-align: middle;\n",
       "    }\n",
       "\n",
       "    .dataframe tbody tr th {\n",
       "        vertical-align: top;\n",
       "    }\n",
       "\n",
       "    .dataframe thead th {\n",
       "        text-align: right;\n",
       "    }\n",
       "</style>\n",
       "<table border=\"1\" class=\"dataframe\">\n",
       "  <thead>\n",
       "    <tr style=\"text-align: right;\">\n",
       "      <th></th>\n",
       "      <th>Trips by purpose</th>\n",
       "      <th>trip_purpose</th>\n",
       "      <th>QUANTITY</th>\n",
       "    </tr>\n",
       "  </thead>\n",
       "  <tbody>\n",
       "    <tr>\n",
       "      <th>0</th>\n",
       "      <td>Non-mandatory</td>\n",
       "      <td>discretionary</td>\n",
       "      <td>56428.282232</td>\n",
       "    </tr>\n",
       "    <tr>\n",
       "      <th>1</th>\n",
       "      <td>Non-mandatory</td>\n",
       "      <td>eatingout</td>\n",
       "      <td>11712.567074</td>\n",
       "    </tr>\n",
       "    <tr>\n",
       "      <th>2</th>\n",
       "      <td>Non-mandatory</td>\n",
       "      <td>escort</td>\n",
       "      <td>5766.594686</td>\n",
       "    </tr>\n",
       "    <tr>\n",
       "      <th>3</th>\n",
       "      <td>Non-mandatory</td>\n",
       "      <td>maintenance</td>\n",
       "      <td>30578.692150</td>\n",
       "    </tr>\n",
       "    <tr>\n",
       "      <th>4</th>\n",
       "      <td>Mandatory</td>\n",
       "      <td>school</td>\n",
       "      <td>27745.147229</td>\n",
       "    </tr>\n",
       "  </tbody>\n",
       "</table>\n",
       "</div>"
      ],
      "text/plain": [
       "  Trips by purpose   trip_purpose      QUANTITY\n",
       "0    Non-mandatory  discretionary  56428.282232\n",
       "1    Non-mandatory      eatingout  11712.567074\n",
       "2    Non-mandatory         escort   5766.594686\n",
       "3    Non-mandatory    maintenance  30578.692150\n",
       "4        Mandatory         school  27745.147229"
      ]
     },
     "execution_count": 5,
     "metadata": {},
     "output_type": "execute_result"
    }
   ],
   "source": [
    "# trip purpose\n",
    "q = x[['Trips by purpose','trip_purpose','QUANTITY']]\n",
    "q.head()"
   ]
  },
  {
   "cell_type": "code",
   "execution_count": 7,
   "metadata": {},
   "outputs": [],
   "source": [
    "mode_dict = {'Bike':'Non-motorized','Drive alone free':'SOV',\n",
    "                'Drive alone pay':'SOV','Drive to transit':'Transit access',\n",
    "                'School bus':'HOV','Shared ride 2 free':'HOV','Shared ride 2 pay':'HOV',\n",
    "                'Shared ride 3+ free':'HOV','Shared ride 3+ pay':'HOV',\n",
    "                'Taxi':'HOV','Walk':'Non-motorized','Walk to transit':'Transit access'}"
   ]
  },
  {
   "cell_type": "code",
   "execution_count": 8,
   "metadata": {},
   "outputs": [
    {
     "data": {
      "text/html": [
       "<div>\n",
       "<style scoped>\n",
       "    .dataframe tbody tr th:only-of-type {\n",
       "        vertical-align: middle;\n",
       "    }\n",
       "\n",
       "    .dataframe tbody tr th {\n",
       "        vertical-align: top;\n",
       "    }\n",
       "\n",
       "    .dataframe thead th {\n",
       "        text-align: right;\n",
       "    }\n",
       "</style>\n",
       "<table border=\"1\" class=\"dataframe\">\n",
       "  <thead>\n",
       "    <tr style=\"text-align: right;\">\n",
       "      <th></th>\n",
       "      <th>Trips by mode</th>\n",
       "      <th>trip_mode</th>\n",
       "      <th>QUANTITY</th>\n",
       "    </tr>\n",
       "  </thead>\n",
       "  <tbody>\n",
       "    <tr>\n",
       "      <th>0</th>\n",
       "      <td>Non-motorized</td>\n",
       "      <td>Bike</td>\n",
       "      <td>2.748106e+05</td>\n",
       "    </tr>\n",
       "    <tr>\n",
       "      <th>1</th>\n",
       "      <td>SOV</td>\n",
       "      <td>Drive alone free</td>\n",
       "      <td>1.340106e+07</td>\n",
       "    </tr>\n",
       "    <tr>\n",
       "      <th>2</th>\n",
       "      <td>SOV</td>\n",
       "      <td>Drive alone pay</td>\n",
       "      <td>3.898055e+05</td>\n",
       "    </tr>\n",
       "    <tr>\n",
       "      <th>3</th>\n",
       "      <td>Transit access</td>\n",
       "      <td>Drive to transit</td>\n",
       "      <td>1.774542e+05</td>\n",
       "    </tr>\n",
       "    <tr>\n",
       "      <th>4</th>\n",
       "      <td>HOV</td>\n",
       "      <td>School bus</td>\n",
       "      <td>7.478360e+05</td>\n",
       "    </tr>\n",
       "  </tbody>\n",
       "</table>\n",
       "</div>"
      ],
      "text/plain": [
       "    Trips by mode         trip_mode      QUANTITY\n",
       "0   Non-motorized              Bike  2.748106e+05\n",
       "1             SOV  Drive alone free  1.340106e+07\n",
       "2             SOV   Drive alone pay  3.898055e+05\n",
       "3  Transit access  Drive to transit  1.774542e+05\n",
       "4             HOV        School bus  7.478360e+05"
      ]
     },
     "execution_count": 8,
     "metadata": {},
     "output_type": "execute_result"
    }
   ],
   "source": [
    "# trip mode \n",
    "t = surveydf.groupby('trip_mode').agg({'EXPWGT':'sum'}).rename(columns={'EXPWGT':'QUANTITY'}).reset_index()\n",
    "t['Trips by mode'] = t['trip_mode'].map(mode_dict)\n",
    "s = t[['Trips by mode','trip_mode','QUANTITY']]\n",
    "s.head()"
   ]
  },
  {
   "cell_type": "code",
   "execution_count": 33,
   "metadata": {},
   "outputs": [
    {
     "data": {
      "text/html": [
       "<div>\n",
       "<style scoped>\n",
       "    .dataframe tbody tr th:only-of-type {\n",
       "        vertical-align: middle;\n",
       "    }\n",
       "\n",
       "    .dataframe tbody tr th {\n",
       "        vertical-align: top;\n",
       "    }\n",
       "\n",
       "    .dataframe thead th {\n",
       "        text-align: right;\n",
       "    }\n",
       "</style>\n",
       "<table border=\"1\" class=\"dataframe\">\n",
       "  <thead>\n",
       "    <tr style=\"text-align: right;\">\n",
       "      <th></th>\n",
       "      <th>trip_mode</th>\n",
       "      <th>type</th>\n",
       "      <th>QUANTITY</th>\n",
       "    </tr>\n",
       "  </thead>\n",
       "  <tbody>\n",
       "    <tr>\n",
       "      <th>0</th>\n",
       "      <td>Bike</td>\n",
       "      <td>Child too young for school</td>\n",
       "      <td>4978.354652</td>\n",
       "    </tr>\n",
       "    <tr>\n",
       "      <th>1</th>\n",
       "      <td>Bike</td>\n",
       "      <td>Full-time worker</td>\n",
       "      <td>95009.707931</td>\n",
       "    </tr>\n",
       "    <tr>\n",
       "      <th>2</th>\n",
       "      <td>Bike</td>\n",
       "      <td>Non-worker</td>\n",
       "      <td>20288.397909</td>\n",
       "    </tr>\n",
       "    <tr>\n",
       "      <th>3</th>\n",
       "      <td>Bike</td>\n",
       "      <td>Part-time worker</td>\n",
       "      <td>26230.853185</td>\n",
       "    </tr>\n",
       "    <tr>\n",
       "      <th>4</th>\n",
       "      <td>Bike</td>\n",
       "      <td>Retired</td>\n",
       "      <td>9395.145395</td>\n",
       "    </tr>\n",
       "  </tbody>\n",
       "</table>\n",
       "</div>"
      ],
      "text/plain": [
       "  trip_mode                        type      QUANTITY\n",
       "0      Bike  Child too young for school   4978.354652\n",
       "1      Bike            Full-time worker  95009.707931\n",
       "2      Bike                  Non-worker  20288.397909\n",
       "3      Bike            Part-time worker  26230.853185\n",
       "4      Bike                     Retired   9395.145395"
      ]
     },
     "execution_count": 33,
     "metadata": {},
     "output_type": "execute_result"
    }
   ],
   "source": [
    "# person type and mode - individual trips only\n",
    "surveyone = surveydf[surveydf['JOINT_STATUS'] == 0]\n",
    "surveyone.groupby(['trip_mode','type']).agg({'EXPWGT':'sum'}).rename(columns={'EXPWGT':'QUANTITY'}).reset_index().head()"
   ]
  },
  {
   "cell_type": "code",
   "execution_count": 15,
   "metadata": {},
   "outputs": [
    {
     "data": {
      "text/plain": [
       "QUANTITY    2.547227e+07\n",
       "dtype: float64"
      ]
     },
     "execution_count": 15,
     "metadata": {},
     "output_type": "execute_result"
    }
   ],
   "source": [
    "surveyone.groupby(['trip_mode','type']).agg({'EXPWGT':'sum'}).rename(columns={'EXPWGT':'QUANTITY'}).sum()"
   ]
  },
  {
   "cell_type": "code",
   "execution_count": 34,
   "metadata": {},
   "outputs": [
    {
     "data": {
      "text/html": [
       "<div>\n",
       "<style scoped>\n",
       "    .dataframe tbody tr th:only-of-type {\n",
       "        vertical-align: middle;\n",
       "    }\n",
       "\n",
       "    .dataframe tbody tr th {\n",
       "        vertical-align: top;\n",
       "    }\n",
       "\n",
       "    .dataframe thead th {\n",
       "        text-align: right;\n",
       "    }\n",
       "</style>\n",
       "<table border=\"1\" class=\"dataframe\">\n",
       "  <thead>\n",
       "    <tr style=\"text-align: right;\">\n",
       "      <th></th>\n",
       "      <th>trip_purpose</th>\n",
       "      <th>type</th>\n",
       "      <th>QUANTITY</th>\n",
       "    </tr>\n",
       "  </thead>\n",
       "  <tbody>\n",
       "    <tr>\n",
       "      <th>0</th>\n",
       "      <td>discretionary</td>\n",
       "      <td>Child too young for school</td>\n",
       "      <td>127848.677292</td>\n",
       "    </tr>\n",
       "    <tr>\n",
       "      <th>1</th>\n",
       "      <td>discretionary</td>\n",
       "      <td>Full-time worker</td>\n",
       "      <td>628028.797962</td>\n",
       "    </tr>\n",
       "    <tr>\n",
       "      <th>2</th>\n",
       "      <td>discretionary</td>\n",
       "      <td>Non-worker</td>\n",
       "      <td>341814.110224</td>\n",
       "    </tr>\n",
       "    <tr>\n",
       "      <th>3</th>\n",
       "      <td>discretionary</td>\n",
       "      <td>Part-time worker</td>\n",
       "      <td>169770.419759</td>\n",
       "    </tr>\n",
       "    <tr>\n",
       "      <th>4</th>\n",
       "      <td>discretionary</td>\n",
       "      <td>Retired</td>\n",
       "      <td>273192.208563</td>\n",
       "    </tr>\n",
       "  </tbody>\n",
       "</table>\n",
       "</div>"
      ],
      "text/plain": [
       "    trip_purpose                        type       QUANTITY\n",
       "0  discretionary  Child too young for school  127848.677292\n",
       "1  discretionary            Full-time worker  628028.797962\n",
       "2  discretionary                  Non-worker  341814.110224\n",
       "3  discretionary            Part-time worker  169770.419759\n",
       "4  discretionary                     Retired  273192.208563"
      ]
     },
     "execution_count": 34,
     "metadata": {},
     "output_type": "execute_result"
    }
   ],
   "source": [
    "# person type x purpose\n",
    "surveyone.groupby(['trip_purpose','type']).agg({'EXPWGT':'sum'}).rename(columns={'EXPWGT':'QUANTITY'}).reset_index().head()"
   ]
  },
  {
   "cell_type": "code",
   "execution_count": 28,
   "metadata": {},
   "outputs": [
    {
     "data": {
      "text/html": [
       "<div>\n",
       "<style scoped>\n",
       "    .dataframe tbody tr th:only-of-type {\n",
       "        vertical-align: middle;\n",
       "    }\n",
       "\n",
       "    .dataframe tbody tr th {\n",
       "        vertical-align: top;\n",
       "    }\n",
       "\n",
       "    .dataframe thead th {\n",
       "        text-align: right;\n",
       "    }\n",
       "</style>\n",
       "<table border=\"1\" class=\"dataframe\">\n",
       "  <thead>\n",
       "    <tr style=\"text-align: right;\">\n",
       "      <th></th>\n",
       "      <th>HINCreclass</th>\n",
       "      <th>trip_mode</th>\n",
       "      <th>QUANTITY</th>\n",
       "    </tr>\n",
       "  </thead>\n",
       "  <tbody>\n",
       "    <tr>\n",
       "      <th>0</th>\n",
       "      <td>1.0</td>\n",
       "      <td>Bike</td>\n",
       "      <td>4.670618e+04</td>\n",
       "    </tr>\n",
       "    <tr>\n",
       "      <th>1</th>\n",
       "      <td>1.0</td>\n",
       "      <td>Drive alone free</td>\n",
       "      <td>1.776067e+06</td>\n",
       "    </tr>\n",
       "    <tr>\n",
       "      <th>2</th>\n",
       "      <td>1.0</td>\n",
       "      <td>Drive alone pay</td>\n",
       "      <td>1.715668e+04</td>\n",
       "    </tr>\n",
       "    <tr>\n",
       "      <th>3</th>\n",
       "      <td>1.0</td>\n",
       "      <td>Drive to transit</td>\n",
       "      <td>1.526385e+04</td>\n",
       "    </tr>\n",
       "    <tr>\n",
       "      <th>4</th>\n",
       "      <td>1.0</td>\n",
       "      <td>School bus</td>\n",
       "      <td>1.275887e+05</td>\n",
       "    </tr>\n",
       "  </tbody>\n",
       "</table>\n",
       "</div>"
      ],
      "text/plain": [
       "   HINCreclass         trip_mode      QUANTITY\n",
       "0          1.0              Bike  4.670618e+04\n",
       "1          1.0  Drive alone free  1.776067e+06\n",
       "2          1.0   Drive alone pay  1.715668e+04\n",
       "3          1.0  Drive to transit  1.526385e+04\n",
       "4          1.0        School bus  1.275887e+05"
      ]
     },
     "execution_count": 28,
     "metadata": {},
     "output_type": "execute_result"
    }
   ],
   "source": [
    "# household income\n",
    "surveyhh = pd.read_csv('S:/AdminGroups/ResearchAnalysis/BER/ABM/FY18/_R_validation_notebook/data/survey/survey_hh.csv')\n",
    "surveyhh = surveyhh[['SAMPN','HINCCAT2']]\n",
    "\n",
    "surveyinc = surveydf.merge(surveyhh,on='SAMPN')\n",
    "\n",
    "reclassdict = {1: 1, # less than 20k\n",
    "               2: 1, # less than 35k\n",
    "               3: 2, # less than 50k\n",
    "               4: 3, # less than 60k\n",
    "               5: 3, # less than 75k\n",
    "               6: 4, # less than 100k\n",
    "               7: 5} # more than 100k\n",
    "\n",
    "surveyinc['HINCreclass'] = surveyinc.HINCCAT2.map(reclassdict)\n",
    "surveyinc.groupby(['HINCreclass','trip_mode']).agg({'EXPWGT':'sum'}).rename(columns={'EXPWGT':'QUANTITY'}).reset_index().head()"
   ]
  },
  {
   "cell_type": "code",
   "execution_count": 37,
   "metadata": {},
   "outputs": [],
   "source": [
    "def classdist(x):\n",
    "    if x < 2.5:\n",
    "        return 1\n",
    "    elif x < 5:\n",
    "        return 2\n",
    "    elif x < 10:\n",
    "        return 3\n",
    "    elif x < 15:\n",
    "        return 4\n",
    "    elif x < 20:\n",
    "        return 5\n",
    "    elif x < 25:\n",
    "        return 6\n",
    "    elif x < 30:\n",
    "        return 7\n",
    "    elif x >= 30:\n",
    "        return 8"
   ]
  },
  {
   "cell_type": "code",
   "execution_count": 40,
   "metadata": {},
   "outputs": [
    {
     "data": {
      "text/html": [
       "<div>\n",
       "<style scoped>\n",
       "    .dataframe tbody tr th:only-of-type {\n",
       "        vertical-align: middle;\n",
       "    }\n",
       "\n",
       "    .dataframe tbody tr th {\n",
       "        vertical-align: top;\n",
       "    }\n",
       "\n",
       "    .dataframe thead th {\n",
       "        text-align: right;\n",
       "    }\n",
       "</style>\n",
       "<table border=\"1\" class=\"dataframe\">\n",
       "  <thead>\n",
       "    <tr style=\"text-align: right;\">\n",
       "      <th></th>\n",
       "      <th>Dist (Miles)</th>\n",
       "      <th>trip_purpose</th>\n",
       "      <th>QUANTITY</th>\n",
       "    </tr>\n",
       "  </thead>\n",
       "  <tbody>\n",
       "    <tr>\n",
       "      <th>0</th>\n",
       "      <td>1.0</td>\n",
       "      <td>discretionary</td>\n",
       "      <td>1.008462e+06</td>\n",
       "    </tr>\n",
       "    <tr>\n",
       "      <th>1</th>\n",
       "      <td>1.0</td>\n",
       "      <td>eatingout</td>\n",
       "      <td>7.433657e+05</td>\n",
       "    </tr>\n",
       "    <tr>\n",
       "      <th>2</th>\n",
       "      <td>1.0</td>\n",
       "      <td>escort</td>\n",
       "      <td>1.483105e+06</td>\n",
       "    </tr>\n",
       "    <tr>\n",
       "      <th>3</th>\n",
       "      <td>1.0</td>\n",
       "      <td>maintenance</td>\n",
       "      <td>1.248205e+06</td>\n",
       "    </tr>\n",
       "    <tr>\n",
       "      <th>4</th>\n",
       "      <td>1.0</td>\n",
       "      <td>school</td>\n",
       "      <td>1.125904e+06</td>\n",
       "    </tr>\n",
       "  </tbody>\n",
       "</table>\n",
       "</div>"
      ],
      "text/plain": [
       "   Dist (Miles)   trip_purpose      QUANTITY\n",
       "0           1.0  discretionary  1.008462e+06\n",
       "1           1.0      eatingout  7.433657e+05\n",
       "2           1.0         escort  1.483105e+06\n",
       "3           1.0    maintenance  1.248205e+06\n",
       "4           1.0         school  1.125904e+06"
      ]
     },
     "execution_count": 40,
     "metadata": {},
     "output_type": "execute_result"
    }
   ],
   "source": [
    "# distance\n",
    "distSkim = pd.read_csv(r'S:\\AdminGroups\\ResearchAnalysis\\BER\\ABM\\FY18\\validation\\data\\correspondance\\distSkim.csv')\n",
    "surveydf.loc[:,'ID'] = surveydf['ORIG_TAZ'].astype(str) + \"-\" + surveydf['DEST_TAZ'].astype(str)\n",
    "distSkim.loc[:,'ID'] = distSkim['ORIG'].astype(str) + \"-\" + distSkim[' DEST'].astype(str)\n",
    "#dist Skim\n",
    "surveyDist = surveydf.merge(distSkim,how='left',left_on='ID',right_on=\"ID\")\n",
    "surveyDist['Dist (Miles)'] = surveyDist[' DIST'].map(classdist)\n",
    "surveyDist.groupby(['Dist (Miles)','trip_purpose']).agg({'EXPWGT':'sum'}).rename(columns={'EXPWGT':'QUANTITY'}).reset_index().head()"
   ]
  },
  {
   "cell_type": "code",
   "execution_count": 122,
   "metadata": {},
   "outputs": [],
   "source": [
    "# work trips by mode and distance\n",
    "surveyDistwork = surveyDist[surveyDist['trip_purpose'] == 'work']"
   ]
  },
  {
   "cell_type": "code",
   "execution_count": 126,
   "metadata": {},
   "outputs": [
    {
     "data": {
      "text/html": [
       "<div>\n",
       "<style scoped>\n",
       "    .dataframe tbody tr th:only-of-type {\n",
       "        vertical-align: middle;\n",
       "    }\n",
       "\n",
       "    .dataframe tbody tr th {\n",
       "        vertical-align: top;\n",
       "    }\n",
       "\n",
       "    .dataframe thead th {\n",
       "        text-align: right;\n",
       "    }\n",
       "</style>\n",
       "<table border=\"1\" class=\"dataframe\">\n",
       "  <thead>\n",
       "    <tr style=\"text-align: right;\">\n",
       "      <th></th>\n",
       "      <th>Dist (Miles)</th>\n",
       "      <th>trip_mode</th>\n",
       "      <th>QUANTITY</th>\n",
       "    </tr>\n",
       "  </thead>\n",
       "  <tbody>\n",
       "    <tr>\n",
       "      <th>0</th>\n",
       "      <td>1.0</td>\n",
       "      <td>Bike</td>\n",
       "      <td>16336.509414</td>\n",
       "    </tr>\n",
       "    <tr>\n",
       "      <th>1</th>\n",
       "      <td>1.0</td>\n",
       "      <td>Drive alone free</td>\n",
       "      <td>342115.325300</td>\n",
       "    </tr>\n",
       "    <tr>\n",
       "      <th>2</th>\n",
       "      <td>1.0</td>\n",
       "      <td>Drive alone pay</td>\n",
       "      <td>3478.873516</td>\n",
       "    </tr>\n",
       "    <tr>\n",
       "      <th>3</th>\n",
       "      <td>1.0</td>\n",
       "      <td>Drive to transit</td>\n",
       "      <td>545.756139</td>\n",
       "    </tr>\n",
       "    <tr>\n",
       "      <th>4</th>\n",
       "      <td>1.0</td>\n",
       "      <td>School bus</td>\n",
       "      <td>169.028559</td>\n",
       "    </tr>\n",
       "  </tbody>\n",
       "</table>\n",
       "</div>"
      ],
      "text/plain": [
       "   Dist (Miles)         trip_mode       QUANTITY\n",
       "0           1.0              Bike   16336.509414\n",
       "1           1.0  Drive alone free  342115.325300\n",
       "2           1.0   Drive alone pay    3478.873516\n",
       "3           1.0  Drive to transit     545.756139\n",
       "4           1.0        School bus     169.028559"
      ]
     },
     "execution_count": 126,
     "metadata": {},
     "output_type": "execute_result"
    }
   ],
   "source": [
    "surveyDistwork.groupby(['Dist (Miles)','trip_mode']).agg({'EXPWGT':'sum'}).rename(columns={'EXPWGT':'QUANTITY'}).reset_index().head()"
   ]
  },
  {
   "cell_type": "markdown",
   "metadata": {},
   "source": [
    "## Model Data"
   ]
  },
  {
   "cell_type": "markdown",
   "metadata": {},
   "source": [
    "### combining individual and joint trips"
   ]
  },
  {
   "cell_type": "code",
   "execution_count": 41,
   "metadata": {},
   "outputs": [],
   "source": [
    "output_dir = 'S:/AdminGroups/ResearchAnalysis/DataViz/abm_viz_report/modeldata_2010_calibration/raw/'\n",
    "tap_dir = 'S:/AdminGroups/ResearchAnalysis/DataViz/abm_viz_report/modeldata_2010_calibration/raw/archive/'"
   ]
  },
  {
   "cell_type": "code",
   "execution_count": 42,
   "metadata": {},
   "outputs": [],
   "source": [
    "expansion_size = 5"
   ]
  },
  {
   "cell_type": "code",
   "execution_count": 43,
   "metadata": {},
   "outputs": [],
   "source": [
    "iTripscsv = pd.read_csv(os.path.join(output_dir,'indivTripData_1.csv')\n",
    "                     ,usecols = [u'hh_id',u'person_id',u'tour_purpose'\n",
    "                                 , u'trip_mode', u'tour_mode', u'orig_taz', u'dest_taz',u'orig_walk_segment'\n",
    "                                 ,u'orig_purpose',u'dest_purpose',u'board_tap',u'orig_maz'\n",
    "                                 , u'alight_tap'])"
   ]
  },
  {
   "cell_type": "code",
   "execution_count": 10,
   "metadata": {},
   "outputs": [
    {
     "data": {
      "text/plain": [
       "5198172"
      ]
     },
     "execution_count": 10,
     "metadata": {},
     "output_type": "execute_result"
    }
   ],
   "source": [
    "len(iTripscsv)"
   ]
  },
  {
   "cell_type": "code",
   "execution_count": 44,
   "metadata": {},
   "outputs": [
    {
     "data": {
      "text/plain": [
       "25990860"
      ]
     },
     "execution_count": 44,
     "metadata": {},
     "output_type": "execute_result"
    }
   ],
   "source": [
    "len(iTripscsv) * expansion_size"
   ]
  },
  {
   "cell_type": "code",
   "execution_count": 45,
   "metadata": {},
   "outputs": [],
   "source": [
    "jTrips = pd.read_csv(os.path.join(output_dir,'jointTripData_1.csv')\n",
    "                     ,usecols = [u'hh_id',u'tour_purpose',u'orig_maz',u'orig_walk_segment'\n",
    "                                 , u'trip_mode', u'tour_mode', u'orig_taz', u'dest_taz'\n",
    "                                 ,u'orig_purpose',u'dest_purpose',u'board_tap', u'alight_tap'\n",
    "                                ,u'num_participants'])"
   ]
  },
  {
   "cell_type": "code",
   "execution_count": 46,
   "metadata": {},
   "outputs": [
    {
     "data": {
      "text/plain": [
       "1164928"
      ]
     },
     "execution_count": 46,
     "metadata": {},
     "output_type": "execute_result"
    }
   ],
   "source": [
    "len(jTrips)"
   ]
  },
  {
   "cell_type": "code",
   "execution_count": 47,
   "metadata": {},
   "outputs": [
    {
     "data": {
      "text/plain": [
       "5824640"
      ]
     },
     "execution_count": 47,
     "metadata": {},
     "output_type": "execute_result"
    }
   ],
   "source": [
    "len(jTrips) * expansion_size"
   ]
  },
  {
   "cell_type": "code",
   "execution_count": 48,
   "metadata": {},
   "outputs": [],
   "source": [
    "tap = pd.read_csv(os.path.join(tap_dir,'tap_attributes.csv')\n",
    "                 ,usecols=['tap_id','f_pnr_sp','if_pnr_sp','metra_rail','cta_rail','bus_exp','bus_local','taz09'])"
   ]
  },
  {
   "cell_type": "code",
   "execution_count": 49,
   "metadata": {},
   "outputs": [],
   "source": [
    "tazgroups = pd.read_csv(r'S:\\AdminGroups\\ResearchAnalysis\\BER\\ABM\\FY18\\data\\zoneGroups.txt')\n",
    "distSkim = pd.read_csv(r'S:\\AdminGroups\\ResearchAnalysis\\BER\\ABM\\FY18\\validation\\data\\correspondance\\distSkim.csv')"
   ]
  },
  {
   "cell_type": "code",
   "execution_count": 50,
   "metadata": {},
   "outputs": [
    {
     "name": "stderr",
     "output_type": "stream",
     "text": [
      "C:\\Users\\sbuchhorn\\AppData\\Local\\Continuum\\anaconda3\\lib\\site-packages\\pandas\\core\\frame.py:6692: FutureWarning: Sorting because non-concatenation axis is not aligned. A future version\n",
      "of pandas will change to not sort by default.\n",
      "\n",
      "To accept the future behavior, pass 'sort=False'.\n",
      "\n",
      "To retain the current behavior and silence the warning, pass 'sort=True'.\n",
      "\n",
      "  sort=sort)\n"
     ]
    }
   ],
   "source": [
    "iTripsjTrips = iTripscsv.append(jTrips)"
   ]
  },
  {
   "cell_type": "code",
   "execution_count": 51,
   "metadata": {},
   "outputs": [],
   "source": [
    "iTrips_ = iTripsjTrips.loc[(iTripsjTrips['trip_mode'] > 0) & (iTripsjTrips['tour_mode'] > 0)]"
   ]
  },
  {
   "cell_type": "code",
   "execution_count": 52,
   "metadata": {},
   "outputs": [
    {
     "data": {
      "text/plain": [
       "31812590"
      ]
     },
     "execution_count": 52,
     "metadata": {},
     "output_type": "execute_result"
    }
   ],
   "source": [
    "len(iTrips_) * expansion_size"
   ]
  },
  {
   "cell_type": "code",
   "execution_count": 53,
   "metadata": {},
   "outputs": [],
   "source": [
    "iTripso = iTrips_.merge(tap[['tap_id','metra_rail','cta_rail','bus_exp','bus_local','taz09']],\n",
    "                        how='left',left_on='board_tap',right_on = 'tap_id')"
   ]
  },
  {
   "cell_type": "code",
   "execution_count": 54,
   "metadata": {},
   "outputs": [],
   "source": [
    "iTripso.columns = iTrips_.columns.tolist() + ['tap_idb','metra_railb','cta_railb','bus_expb','bus_localb','taz09b']"
   ]
  },
  {
   "cell_type": "code",
   "execution_count": 55,
   "metadata": {},
   "outputs": [],
   "source": [
    "iTrips = iTripso.merge(tap[['tap_id','metra_rail','cta_rail','bus_exp','bus_local','taz09']],\n",
    "                       how='left',left_on='alight_tap',right_on = 'tap_id')"
   ]
  },
  {
   "cell_type": "code",
   "execution_count": 56,
   "metadata": {},
   "outputs": [],
   "source": [
    "iTrips.columns = iTripso.columns.tolist() + ['tap_ida','metra_raila','cta_raila','bus_expa','bus_locala','taz09a']"
   ]
  },
  {
   "cell_type": "code",
   "execution_count": 57,
   "metadata": {},
   "outputs": [],
   "source": [
    "iTrips.loc[:,'Model'] = expansion_size\n",
    "\n",
    "iTrips.loc[:,'trip_purpose'] = 'na'\n",
    "iTrips.loc[:,'trip_purpose'] = np.where(iTrips['dest_purpose'] == 'Home',iTrips['orig_purpose'],iTrips['dest_purpose'])\n",
    "iTrips.loc[:,'trip_purpose'] = np.where(iTrips['trip_purpose'] == 'Discretionary','discretionary',iTrips['trip_purpose'])\n",
    "iTrips.loc[:,'trip_purpose'] = np.where(iTrips['trip_purpose'] == 'EatingOut','eatingout',iTrips['trip_purpose'])\n",
    "iTrips.loc[:,'trip_purpose'] = np.where(iTrips['trip_purpose'] == 'Escort','escort',iTrips['trip_purpose'])\n",
    "iTrips.loc[:,'trip_purpose'] = np.where(iTrips['trip_purpose'] == 'Maintenance','maintenance',iTrips['trip_purpose'])\n",
    "iTrips.loc[:,'trip_purpose'] = np.where(iTrips['trip_purpose'] == 'Shop','shop',iTrips['trip_purpose'])\n",
    "iTrips.loc[:,'trip_purpose'] = np.where(iTrips['trip_purpose'] == 'University','university',iTrips['trip_purpose'])\n",
    "iTrips.loc[:,'trip_purpose'] = np.where(iTrips['trip_purpose'] == 'Visiting','visiting',iTrips['trip_purpose'])\n",
    "iTrips.loc[:,'trip_purpose'] = np.where(iTrips['trip_purpose'] == 'Work','work',iTrips['trip_purpose'])\n",
    "iTrips.loc[:,'trip_purpose'] = np.where(iTrips['trip_purpose'] == 'work related','work-based',iTrips['trip_purpose'])"
   ]
  },
  {
   "cell_type": "code",
   "execution_count": 58,
   "metadata": {},
   "outputs": [],
   "source": [
    "iTrips['trip_mode_code'] = iTrips['trip_mode']"
   ]
  },
  {
   "cell_type": "code",
   "execution_count": 59,
   "metadata": {},
   "outputs": [],
   "source": [
    "iTrips[['trip_mode']] = iTrips[['trip_mode']].replace([1,2,3,4,5,6,7,8,9,10,11,12,13,14]\n",
    "                     ,['Drive alone free','Drive alone pay'\n",
    "                       ,'Shared ride 2 free','Shared ride 2 pay'\n",
    "                       ,'Shared ride 3+ free','Shared ride 3+ pay'\n",
    "                       ,'Walk','Bike','Walk to transit'\n",
    "                       ,'Walk to transit','Drive to transit'\n",
    "                       ,'Drive to transit','Taxi','School bus'])"
   ]
  },
  {
   "cell_type": "code",
   "execution_count": 60,
   "metadata": {},
   "outputs": [],
   "source": [
    "# combines transit access modes - this is what we'll mostly use\n",
    "iTrips[['trip_mode_transit']] = iTrips[['trip_mode_code']].replace([1,2,3,4,5,6,7,8,9,10,11,12,13,14]\n",
    "                     ,['Drive alone free','Drive alone pay'\n",
    "                       ,'Shared ride 2 free','Shared ride 2 pay'\n",
    "                       ,'Shared ride 3+ free','Shared ride 3+ pay'\n",
    "                       ,'Walk','Bike','Transit'\n",
    "                       ,'Transit','Transit'\n",
    "                       ,'Transit','Taxi','School bus'])"
   ]
  },
  {
   "cell_type": "code",
   "execution_count": 42,
   "metadata": {},
   "outputs": [],
   "source": [
    "iTrips.to_csv(\"D:/dataviz/abm_model_data/itrips.csv\")"
   ]
  },
  {
   "cell_type": "markdown",
   "metadata": {},
   "source": [
    "### Trip Mode"
   ]
  },
  {
   "cell_type": "markdown",
   "metadata": {},
   "source": [
    "### Data for csv1314_tripmode.csv"
   ]
  },
  {
   "cell_type": "code",
   "execution_count": 68,
   "metadata": {},
   "outputs": [],
   "source": [
    "modeagg = iTrips.groupby('trip_mode_transit').agg({'hh_id':'count'}) * expansion_size"
   ]
  },
  {
   "cell_type": "code",
   "execution_count": 69,
   "metadata": {},
   "outputs": [],
   "source": [
    "b = modeagg.transpose()"
   ]
  },
  {
   "cell_type": "code",
   "execution_count": 70,
   "metadata": {},
   "outputs": [],
   "source": [
    "#b['sharedridepay'] = b['Shared ride 3+ pay'] + b['Shared ride 2 pay']"
   ]
  },
  {
   "cell_type": "code",
   "execution_count": 71,
   "metadata": {},
   "outputs": [],
   "source": [
    "c = b.transpose().sort_values('hh_id',ascending=False).transpose()"
   ]
  },
  {
   "cell_type": "code",
   "execution_count": 72,
   "metadata": {},
   "outputs": [],
   "source": [
    "#d = c.drop(['Shared ride 3+ pay', 'Shared ride 2 pay'],axis=1)"
   ]
  },
  {
   "cell_type": "code",
   "execution_count": 74,
   "metadata": {},
   "outputs": [
    {
     "data": {
      "text/html": [
       "<div>\n",
       "<style scoped>\n",
       "    .dataframe tbody tr th:only-of-type {\n",
       "        vertical-align: middle;\n",
       "    }\n",
       "\n",
       "    .dataframe tbody tr th {\n",
       "        vertical-align: top;\n",
       "    }\n",
       "\n",
       "    .dataframe thead th {\n",
       "        text-align: right;\n",
       "    }\n",
       "</style>\n",
       "<table border=\"1\" class=\"dataframe\">\n",
       "  <thead>\n",
       "    <tr style=\"text-align: right;\">\n",
       "      <th>trip_mode_transit</th>\n",
       "      <th>Drive alone free</th>\n",
       "      <th>Shared ride 2 free</th>\n",
       "      <th>Shared ride 3+ free</th>\n",
       "      <th>Walk</th>\n",
       "      <th>Transit</th>\n",
       "      <th>School bus</th>\n",
       "      <th>Bike</th>\n",
       "      <th>Drive alone pay</th>\n",
       "      <th>Taxi</th>\n",
       "      <th>Shared ride 3+ pay</th>\n",
       "      <th>Shared ride 2 pay</th>\n",
       "    </tr>\n",
       "  </thead>\n",
       "  <tbody>\n",
       "    <tr>\n",
       "      <th>hh_id</th>\n",
       "      <td>13271835</td>\n",
       "      <td>5680670</td>\n",
       "      <td>5146245</td>\n",
       "      <td>4420785</td>\n",
       "      <td>1626340</td>\n",
       "      <td>878250</td>\n",
       "      <td>329390</td>\n",
       "      <td>256355</td>\n",
       "      <td>99770</td>\n",
       "      <td>62510</td>\n",
       "      <td>40440</td>\n",
       "    </tr>\n",
       "  </tbody>\n",
       "</table>\n",
       "</div>"
      ],
      "text/plain": [
       "trip_mode_transit  Drive alone free  Shared ride 2 free  Shared ride 3+ free  \\\n",
       "hh_id                      13271835             5680670              5146245   \n",
       "\n",
       "trip_mode_transit     Walk  Transit  School bus    Bike  Drive alone pay  \\\n",
       "hh_id              4420785  1626340      878250  329390           256355   \n",
       "\n",
       "trip_mode_transit   Taxi  Shared ride 3+ pay  Shared ride 2 pay  \n",
       "hh_id              99770               62510              40440  "
      ]
     },
     "execution_count": 74,
     "metadata": {},
     "output_type": "execute_result"
    }
   ],
   "source": [
    "c"
   ]
  },
  {
   "cell_type": "code",
   "execution_count": 75,
   "metadata": {},
   "outputs": [
    {
     "data": {
      "text/plain": [
       "hh_id    31812590\n",
       "dtype: int64"
      ]
     },
     "execution_count": 75,
     "metadata": {},
     "output_type": "execute_result"
    }
   ],
   "source": [
    "c.sum(axis=1)"
   ]
  },
  {
   "cell_type": "markdown",
   "metadata": {},
   "source": [
    "### Data for csv9_mode_person.csv"
   ]
  },
  {
   "cell_type": "code",
   "execution_count": 76,
   "metadata": {},
   "outputs": [],
   "source": [
    "# individual trips only"
   ]
  },
  {
   "cell_type": "code",
   "execution_count": 77,
   "metadata": {},
   "outputs": [],
   "source": [
    "perm = pd.read_csv(output_dir + \"personData_1.csv\")"
   ]
  },
  {
   "cell_type": "code",
   "execution_count": 78,
   "metadata": {},
   "outputs": [
    {
     "data": {
      "text/plain": [
       "2048052"
      ]
     },
     "execution_count": 78,
     "metadata": {},
     "output_type": "execute_result"
    }
   ],
   "source": [
    "len(perm)"
   ]
  },
  {
   "cell_type": "code",
   "execution_count": 79,
   "metadata": {},
   "outputs": [],
   "source": [
    "modwper = iTrips.merge(perm,on='person_id')"
   ]
  },
  {
   "cell_type": "code",
   "execution_count": 80,
   "metadata": {},
   "outputs": [
    {
     "data": {
      "text/plain": [
       "Index(['alight_tap', 'board_tap', 'dest_purpose', 'dest_taz', 'hh_id_x',\n",
       "       'num_participants', 'orig_maz', 'orig_purpose', 'orig_taz',\n",
       "       'orig_walk_segment', 'person_id', 'tour_mode', 'tour_purpose',\n",
       "       'trip_mode', 'tap_idb', 'metra_railb', 'cta_railb', 'bus_expb',\n",
       "       'bus_localb', 'taz09b', 'tap_ida', 'metra_raila', 'cta_raila',\n",
       "       'bus_expa', 'bus_locala', 'taz09a', 'Model', 'trip_purpose',\n",
       "       'trip_mode_code', 'trip_mode_transit', 'hh_id_y', 'person_num', 'age',\n",
       "       'gender', 'type', 'value_of_time', 'fp_choice', 'activity_pattern',\n",
       "       'imf_choice', 'inmf_choice', 'walk_time_weight', 'walk_speed',\n",
       "       'max_walk', 'user_class_work_walk', 'user_class_work_pnr',\n",
       "       'user_class_work_knr', 'user_class_non_work_walk',\n",
       "       'user_class_non_work_pnr', 'user_class_non_work_knr'],\n",
       "      dtype='object')"
      ]
     },
     "execution_count": 80,
     "metadata": {},
     "output_type": "execute_result"
    }
   ],
   "source": [
    "modwper.columns"
   ]
  },
  {
   "cell_type": "code",
   "execution_count": 82,
   "metadata": {},
   "outputs": [
    {
     "data": {
      "text/plain": [
       "5198172"
      ]
     },
     "execution_count": 82,
     "metadata": {},
     "output_type": "execute_result"
    }
   ],
   "source": [
    "len(modwper)"
   ]
  },
  {
   "cell_type": "code",
   "execution_count": 83,
   "metadata": {},
   "outputs": [
    {
     "data": {
      "text/plain": [
       "25990860"
      ]
     },
     "execution_count": 83,
     "metadata": {},
     "output_type": "execute_result"
    }
   ],
   "source": [
    "len(modwper) * expansion_size"
   ]
  },
  {
   "cell_type": "code",
   "execution_count": 84,
   "metadata": {},
   "outputs": [],
   "source": [
    "a = (modwper.groupby(['trip_mode_transit','type']).agg({'trip_mode_transit':'count'}).rename(columns={'trip_mode_transit':'COUNT'}) * 5).reset_index()"
   ]
  },
  {
   "cell_type": "code",
   "execution_count": 85,
   "metadata": {},
   "outputs": [],
   "source": [
    "b = a.groupby('trip_mode_transit').agg({'COUNT':'sum'}).reset_index()"
   ]
  },
  {
   "cell_type": "code",
   "execution_count": 86,
   "metadata": {},
   "outputs": [],
   "source": [
    "b['type'] = 'All'"
   ]
  },
  {
   "cell_type": "code",
   "execution_count": 87,
   "metadata": {},
   "outputs": [
    {
     "name": "stderr",
     "output_type": "stream",
     "text": [
      "C:\\Users\\sbuchhorn\\AppData\\Local\\Continuum\\anaconda3\\lib\\site-packages\\pandas\\core\\frame.py:6692: FutureWarning: Sorting because non-concatenation axis is not aligned. A future version\n",
      "of pandas will change to not sort by default.\n",
      "\n",
      "To accept the future behavior, pass 'sort=False'.\n",
      "\n",
      "To retain the current behavior and silence the warning, pass 'sort=True'.\n",
      "\n",
      "  sort=sort)\n"
     ]
    }
   ],
   "source": [
    "c = a.append(b, ignore_index=True)"
   ]
  },
  {
   "cell_type": "code",
   "execution_count": 88,
   "metadata": {},
   "outputs": [],
   "source": [
    "d = c.sort_values('COUNT',ascending=False).reset_index(drop=True)"
   ]
  },
  {
   "cell_type": "code",
   "execution_count": 92,
   "metadata": {},
   "outputs": [
    {
     "data": {
      "text/html": [
       "<div>\n",
       "<style scoped>\n",
       "    .dataframe tbody tr th:only-of-type {\n",
       "        vertical-align: middle;\n",
       "    }\n",
       "\n",
       "    .dataframe tbody tr th {\n",
       "        vertical-align: top;\n",
       "    }\n",
       "\n",
       "    .dataframe thead th {\n",
       "        text-align: right;\n",
       "    }\n",
       "</style>\n",
       "<table border=\"1\" class=\"dataframe\">\n",
       "  <thead>\n",
       "    <tr style=\"text-align: right;\">\n",
       "      <th></th>\n",
       "      <th>COUNT</th>\n",
       "      <th>trip_mode_transit</th>\n",
       "      <th>type</th>\n",
       "    </tr>\n",
       "  </thead>\n",
       "  <tbody>\n",
       "    <tr>\n",
       "      <th>0</th>\n",
       "      <td>13271835</td>\n",
       "      <td>Drive alone free</td>\n",
       "      <td>All</td>\n",
       "    </tr>\n",
       "    <tr>\n",
       "      <th>1</th>\n",
       "      <td>7586910</td>\n",
       "      <td>Drive alone free</td>\n",
       "      <td>Full-time worker</td>\n",
       "    </tr>\n",
       "    <tr>\n",
       "      <th>2</th>\n",
       "      <td>3880330</td>\n",
       "      <td>Walk</td>\n",
       "      <td>All</td>\n",
       "    </tr>\n",
       "    <tr>\n",
       "      <th>3</th>\n",
       "      <td>3074575</td>\n",
       "      <td>Shared ride 3+ free</td>\n",
       "      <td>All</td>\n",
       "    </tr>\n",
       "    <tr>\n",
       "      <th>4</th>\n",
       "      <td>2674540</td>\n",
       "      <td>Shared ride 2 free</td>\n",
       "      <td>All</td>\n",
       "    </tr>\n",
       "  </tbody>\n",
       "</table>\n",
       "</div>"
      ],
      "text/plain": [
       "      COUNT    trip_mode_transit              type\n",
       "0  13271835     Drive alone free               All\n",
       "1   7586910     Drive alone free  Full-time worker\n",
       "2   3880330                 Walk               All\n",
       "3   3074575  Shared ride 3+ free               All\n",
       "4   2674540   Shared ride 2 free               All"
      ]
     },
     "execution_count": 92,
     "metadata": {},
     "output_type": "execute_result"
    }
   ],
   "source": [
    "d.head()"
   ]
  },
  {
   "cell_type": "markdown",
   "metadata": {},
   "source": [
    "### Data for csv10_mode_income"
   ]
  },
  {
   "cell_type": "code",
   "execution_count": 93,
   "metadata": {},
   "outputs": [],
   "source": [
    "hh = pd.read_csv(output_dir + 'hhData_1.csv')\n",
    "modwhh = iTrips.merge(hh,on='hh_id')"
   ]
  },
  {
   "cell_type": "code",
   "execution_count": 94,
   "metadata": {},
   "outputs": [],
   "source": [
    "def classincome(x):\n",
    "   if x < 35000:\n",
    "       return 1\n",
    "   elif x < 50000:\n",
    "       return 2\n",
    "   elif x < 75000:\n",
    "       return 3\n",
    "   elif x < 100000:\n",
    "       return 4\n",
    "   elif x >= 100000:\n",
    "       return 5"
   ]
  },
  {
   "cell_type": "code",
   "execution_count": 95,
   "metadata": {},
   "outputs": [],
   "source": [
    "modwhh['incomeclass'] = modwhh['income'].map(classincome)"
   ]
  },
  {
   "cell_type": "code",
   "execution_count": 96,
   "metadata": {},
   "outputs": [],
   "source": [
    "a = (modwhh.groupby(['incomeclass','trip_mode_transit']).agg({'trip_mode_transit':'count'})*5).rename(columns={'trip_mode_transit':'COUNT'}).reset_index()"
   ]
  },
  {
   "cell_type": "code",
   "execution_count": 97,
   "metadata": {},
   "outputs": [
    {
     "name": "stderr",
     "output_type": "stream",
     "text": [
      "C:\\Users\\sbuchhorn\\AppData\\Local\\Continuum\\anaconda3\\lib\\site-packages\\pandas\\core\\frame.py:6692: FutureWarning: Sorting because non-concatenation axis is not aligned. A future version\n",
      "of pandas will change to not sort by default.\n",
      "\n",
      "To accept the future behavior, pass 'sort=False'.\n",
      "\n",
      "To retain the current behavior and silence the warning, pass 'sort=True'.\n",
      "\n",
      "  sort=sort)\n"
     ]
    }
   ],
   "source": [
    "b = a.groupby('trip_mode_transit').agg({'COUNT':'sum'}).reset_index()\n",
    "b['incomeclass'] = 'All'\n",
    "c = a.append(b, ignore_index=True)"
   ]
  },
  {
   "cell_type": "code",
   "execution_count": 98,
   "metadata": {},
   "outputs": [
    {
     "data": {
      "text/html": [
       "<div>\n",
       "<style scoped>\n",
       "    .dataframe tbody tr th:only-of-type {\n",
       "        vertical-align: middle;\n",
       "    }\n",
       "\n",
       "    .dataframe tbody tr th {\n",
       "        vertical-align: top;\n",
       "    }\n",
       "\n",
       "    .dataframe thead th {\n",
       "        text-align: right;\n",
       "    }\n",
       "</style>\n",
       "<table border=\"1\" class=\"dataframe\">\n",
       "  <thead>\n",
       "    <tr style=\"text-align: right;\">\n",
       "      <th></th>\n",
       "      <th>COUNT</th>\n",
       "      <th>incomeclass</th>\n",
       "      <th>trip_mode_transit</th>\n",
       "    </tr>\n",
       "  </thead>\n",
       "  <tbody>\n",
       "    <tr>\n",
       "      <th>56</th>\n",
       "      <td>13271835</td>\n",
       "      <td>All</td>\n",
       "      <td>Drive alone free</td>\n",
       "    </tr>\n",
       "    <tr>\n",
       "      <th>59</th>\n",
       "      <td>5680670</td>\n",
       "      <td>All</td>\n",
       "      <td>Shared ride 2 free</td>\n",
       "    </tr>\n",
       "    <tr>\n",
       "      <th>61</th>\n",
       "      <td>5146245</td>\n",
       "      <td>All</td>\n",
       "      <td>Shared ride 3+ free</td>\n",
       "    </tr>\n",
       "    <tr>\n",
       "      <th>65</th>\n",
       "      <td>4420785</td>\n",
       "      <td>All</td>\n",
       "      <td>Walk</td>\n",
       "    </tr>\n",
       "    <tr>\n",
       "      <th>1</th>\n",
       "      <td>3847285</td>\n",
       "      <td>1</td>\n",
       "      <td>Drive alone free</td>\n",
       "    </tr>\n",
       "  </tbody>\n",
       "</table>\n",
       "</div>"
      ],
      "text/plain": [
       "       COUNT incomeclass    trip_mode_transit\n",
       "56  13271835         All     Drive alone free\n",
       "59   5680670         All   Shared ride 2 free\n",
       "61   5146245         All  Shared ride 3+ free\n",
       "65   4420785         All                 Walk\n",
       "1    3847285           1     Drive alone free"
      ]
     },
     "execution_count": 98,
     "metadata": {},
     "output_type": "execute_result"
    }
   ],
   "source": [
    "c.sort_values('COUNT',ascending=False).head()"
   ]
  },
  {
   "cell_type": "markdown",
   "metadata": {},
   "source": [
    "### Data for csv5_mode_purpose"
   ]
  },
  {
   "cell_type": "code",
   "execution_count": 99,
   "metadata": {},
   "outputs": [],
   "source": [
    "a = (iTrips.groupby(['trip_mode_transit','trip_purpose']).agg({'trip_purpose':'count'}) * 5).rename(columns={'trip_purpose':'COUNT'}).reset_index()"
   ]
  },
  {
   "cell_type": "code",
   "execution_count": 100,
   "metadata": {},
   "outputs": [
    {
     "name": "stderr",
     "output_type": "stream",
     "text": [
      "C:\\Users\\sbuchhorn\\AppData\\Local\\Continuum\\anaconda3\\lib\\site-packages\\pandas\\core\\frame.py:6692: FutureWarning: Sorting because non-concatenation axis is not aligned. A future version\n",
      "of pandas will change to not sort by default.\n",
      "\n",
      "To accept the future behavior, pass 'sort=False'.\n",
      "\n",
      "To retain the current behavior and silence the warning, pass 'sort=True'.\n",
      "\n",
      "  sort=sort)\n"
     ]
    }
   ],
   "source": [
    "b = a.groupby('trip_mode_transit').agg({'COUNT':'sum'}).reset_index()\n",
    "b['trip_purpose'] = 'All'\n",
    "c = a.append(b, ignore_index=True)"
   ]
  },
  {
   "cell_type": "code",
   "execution_count": 101,
   "metadata": {},
   "outputs": [
    {
     "data": {
      "text/html": [
       "<div>\n",
       "<style scoped>\n",
       "    .dataframe tbody tr th:only-of-type {\n",
       "        vertical-align: middle;\n",
       "    }\n",
       "\n",
       "    .dataframe tbody tr th {\n",
       "        vertical-align: top;\n",
       "    }\n",
       "\n",
       "    .dataframe thead th {\n",
       "        text-align: right;\n",
       "    }\n",
       "</style>\n",
       "<table border=\"1\" class=\"dataframe\">\n",
       "  <thead>\n",
       "    <tr style=\"text-align: right;\">\n",
       "      <th></th>\n",
       "      <th>COUNT</th>\n",
       "      <th>trip_mode_transit</th>\n",
       "      <th>trip_purpose</th>\n",
       "    </tr>\n",
       "  </thead>\n",
       "  <tbody>\n",
       "    <tr>\n",
       "      <th>102</th>\n",
       "      <td>13271835</td>\n",
       "      <td>Drive alone free</td>\n",
       "      <td>All</td>\n",
       "    </tr>\n",
       "    <tr>\n",
       "      <th>105</th>\n",
       "      <td>5680670</td>\n",
       "      <td>Shared ride 2 free</td>\n",
       "      <td>All</td>\n",
       "    </tr>\n",
       "    <tr>\n",
       "      <th>107</th>\n",
       "      <td>5146245</td>\n",
       "      <td>Shared ride 3+ free</td>\n",
       "      <td>All</td>\n",
       "    </tr>\n",
       "    <tr>\n",
       "      <th>111</th>\n",
       "      <td>4420785</td>\n",
       "      <td>Walk</td>\n",
       "      <td>All</td>\n",
       "    </tr>\n",
       "    <tr>\n",
       "      <th>18</th>\n",
       "      <td>3929950</td>\n",
       "      <td>Drive alone free</td>\n",
       "      <td>work</td>\n",
       "    </tr>\n",
       "  </tbody>\n",
       "</table>\n",
       "</div>"
      ],
      "text/plain": [
       "        COUNT    trip_mode_transit trip_purpose\n",
       "102  13271835     Drive alone free          All\n",
       "105   5680670   Shared ride 2 free          All\n",
       "107   5146245  Shared ride 3+ free          All\n",
       "111   4420785                 Walk          All\n",
       "18    3929950     Drive alone free         work"
      ]
     },
     "execution_count": 101,
     "metadata": {},
     "output_type": "execute_result"
    }
   ],
   "source": [
    "c.sort_values('COUNT',ascending=False).head()"
   ]
  },
  {
   "cell_type": "markdown",
   "metadata": {},
   "source": [
    "### Trip Activities"
   ]
  },
  {
   "cell_type": "markdown",
   "metadata": {},
   "source": [
    "### Data for csv15_16"
   ]
  },
  {
   "cell_type": "code",
   "execution_count": 102,
   "metadata": {},
   "outputs": [],
   "source": [
    "a = (iTrips.groupby(['trip_purpose']).agg({'trip_purpose':'count'})*5).rename(columns={'trip_purpose':'COUNT'}).reset_index()"
   ]
  },
  {
   "cell_type": "code",
   "execution_count": 103,
   "metadata": {},
   "outputs": [
    {
     "data": {
      "text/html": [
       "<div>\n",
       "<style scoped>\n",
       "    .dataframe tbody tr th:only-of-type {\n",
       "        vertical-align: middle;\n",
       "    }\n",
       "\n",
       "    .dataframe tbody tr th {\n",
       "        vertical-align: top;\n",
       "    }\n",
       "\n",
       "    .dataframe thead th {\n",
       "        text-align: right;\n",
       "    }\n",
       "</style>\n",
       "<table border=\"1\" class=\"dataframe\">\n",
       "  <thead>\n",
       "    <tr style=\"text-align: right;\">\n",
       "      <th></th>\n",
       "      <th>8</th>\n",
       "      <th>5</th>\n",
       "      <th>3</th>\n",
       "      <th>2</th>\n",
       "      <th>0</th>\n",
       "      <th>4</th>\n",
       "      <th>1</th>\n",
       "      <th>7</th>\n",
       "      <th>9</th>\n",
       "      <th>6</th>\n",
       "    </tr>\n",
       "  </thead>\n",
       "  <tbody>\n",
       "    <tr>\n",
       "      <th>trip_purpose</th>\n",
       "      <td>work</td>\n",
       "      <td>shop</td>\n",
       "      <td>maintenance</td>\n",
       "      <td>escort</td>\n",
       "      <td>discretionary</td>\n",
       "      <td>school</td>\n",
       "      <td>eatingout</td>\n",
       "      <td>visiting</td>\n",
       "      <td>work-based</td>\n",
       "      <td>university</td>\n",
       "    </tr>\n",
       "    <tr>\n",
       "      <th>COUNT</th>\n",
       "      <td>5940075</td>\n",
       "      <td>5853935</td>\n",
       "      <td>4217855</td>\n",
       "      <td>3767495</td>\n",
       "      <td>3413480</td>\n",
       "      <td>2672310</td>\n",
       "      <td>2436550</td>\n",
       "      <td>1958215</td>\n",
       "      <td>1158190</td>\n",
       "      <td>394485</td>\n",
       "    </tr>\n",
       "  </tbody>\n",
       "</table>\n",
       "</div>"
      ],
      "text/plain": [
       "                    8        5            3        2              0        4  \\\n",
       "trip_purpose     work     shop  maintenance   escort  discretionary   school   \n",
       "COUNT         5940075  5853935      4217855  3767495        3413480  2672310   \n",
       "\n",
       "                      1         7           9           6  \n",
       "trip_purpose  eatingout  visiting  work-based  university  \n",
       "COUNT           2436550   1958215     1158190      394485  "
      ]
     },
     "execution_count": 103,
     "metadata": {},
     "output_type": "execute_result"
    }
   ],
   "source": [
    "a.sort_values('COUNT',ascending=False).transpose().head()"
   ]
  },
  {
   "cell_type": "markdown",
   "metadata": {},
   "source": [
    "### Data for csv11"
   ]
  },
  {
   "cell_type": "code",
   "execution_count": 104,
   "metadata": {},
   "outputs": [],
   "source": [
    "a = (modwper.groupby(['type','trip_purpose']).agg({'trip_purpose':'count'})*5).rename(columns={'trip_purpose':'COUNT'}).reset_index()"
   ]
  },
  {
   "cell_type": "code",
   "execution_count": 105,
   "metadata": {},
   "outputs": [
    {
     "name": "stderr",
     "output_type": "stream",
     "text": [
      "C:\\Users\\sbuchhorn\\AppData\\Local\\Continuum\\anaconda3\\lib\\site-packages\\pandas\\core\\frame.py:6692: FutureWarning: Sorting because non-concatenation axis is not aligned. A future version\n",
      "of pandas will change to not sort by default.\n",
      "\n",
      "To accept the future behavior, pass 'sort=False'.\n",
      "\n",
      "To retain the current behavior and silence the warning, pass 'sort=True'.\n",
      "\n",
      "  sort=sort)\n"
     ]
    }
   ],
   "source": [
    "b = a.groupby('trip_purpose').agg({'COUNT':'sum'}).reset_index()\n",
    "b['type'] = 'All'\n",
    "c = a.append(b, ignore_index=True)"
   ]
  },
  {
   "cell_type": "code",
   "execution_count": 106,
   "metadata": {},
   "outputs": [
    {
     "data": {
      "text/html": [
       "<div>\n",
       "<style scoped>\n",
       "    .dataframe tbody tr th:only-of-type {\n",
       "        vertical-align: middle;\n",
       "    }\n",
       "\n",
       "    .dataframe tbody tr th {\n",
       "        vertical-align: top;\n",
       "    }\n",
       "\n",
       "    .dataframe thead th {\n",
       "        text-align: right;\n",
       "    }\n",
       "</style>\n",
       "<table border=\"1\" class=\"dataframe\">\n",
       "  <thead>\n",
       "    <tr style=\"text-align: right;\">\n",
       "      <th></th>\n",
       "      <th>COUNT</th>\n",
       "      <th>trip_purpose</th>\n",
       "      <th>type</th>\n",
       "    </tr>\n",
       "  </thead>\n",
       "  <tbody>\n",
       "    <tr>\n",
       "      <th>0</th>\n",
       "      <td>136265</td>\n",
       "      <td>discretionary</td>\n",
       "      <td>Child too young for school</td>\n",
       "    </tr>\n",
       "    <tr>\n",
       "      <th>1</th>\n",
       "      <td>76010</td>\n",
       "      <td>eatingout</td>\n",
       "      <td>Child too young for school</td>\n",
       "    </tr>\n",
       "    <tr>\n",
       "      <th>2</th>\n",
       "      <td>290045</td>\n",
       "      <td>escort</td>\n",
       "      <td>Child too young for school</td>\n",
       "    </tr>\n",
       "    <tr>\n",
       "      <th>3</th>\n",
       "      <td>132505</td>\n",
       "      <td>maintenance</td>\n",
       "      <td>Child too young for school</td>\n",
       "    </tr>\n",
       "    <tr>\n",
       "      <th>4</th>\n",
       "      <td>317400</td>\n",
       "      <td>school</td>\n",
       "      <td>Child too young for school</td>\n",
       "    </tr>\n",
       "  </tbody>\n",
       "</table>\n",
       "</div>"
      ],
      "text/plain": [
       "    COUNT   trip_purpose                        type\n",
       "0  136265  discretionary  Child too young for school\n",
       "1   76010      eatingout  Child too young for school\n",
       "2  290045         escort  Child too young for school\n",
       "3  132505    maintenance  Child too young for school\n",
       "4  317400         school  Child too young for school"
      ]
     },
     "execution_count": 106,
     "metadata": {},
     "output_type": "execute_result"
    }
   ],
   "source": [
    "c.head()"
   ]
  },
  {
   "cell_type": "markdown",
   "metadata": {},
   "source": [
    "### Data for csv12 and 12b"
   ]
  },
  {
   "cell_type": "code",
   "execution_count": 108,
   "metadata": {},
   "outputs": [],
   "source": [
    "tazgroups = tazgroups.groupby('zone09').agg({'GROUP_':'first'})\n",
    "tazgroups = tazgroups.reset_index()"
   ]
  },
  {
   "cell_type": "code",
   "execution_count": 109,
   "metadata": {},
   "outputs": [],
   "source": [
    "iTripsTAZO = iTrips.merge(tazgroups,how='left',left_on='orig_taz',right_on=\"zone09\")\n",
    "iTripsTAZO.columns = iTrips.columns.tolist() + ['origzone09','origAreaGroup']\n",
    "#iTripsTAZO_ = iTripsTAZO.drop_duplicates('index')\n",
    "\n",
    "iTripsTAZOD = iTripsTAZO.merge(tazgroups,how='left',left_on='dest_taz',right_on=\"zone09\")\n",
    "iTripsTAZOD.columns = iTripsTAZO.columns.tolist() + ['destzone09','destAreaGroup']\n",
    "\n",
    "iTripsTAZOD.loc[:,'ID'] = iTripsTAZOD['origzone09'].astype(int).astype(str) + \"-\" +\\\n",
    "                    iTripsTAZOD['destzone09'].astype(int).astype(str)"
   ]
  },
  {
   "cell_type": "code",
   "execution_count": 110,
   "metadata": {},
   "outputs": [],
   "source": [
    "distSkim.loc[:,'ID'] = distSkim['ORIG'].astype(str) + \"-\" + distSkim[' DEST'].astype(str)"
   ]
  },
  {
   "cell_type": "code",
   "execution_count": 111,
   "metadata": {},
   "outputs": [],
   "source": [
    "iTripsDist = iTripsTAZOD.merge(distSkim,how='left',left_on='ID',right_on=\"ID\")"
   ]
  },
  {
   "cell_type": "code",
   "execution_count": 112,
   "metadata": {},
   "outputs": [],
   "source": [
    "def classdist(x):\n",
    "    if x < 2.5:\n",
    "        return 1\n",
    "    elif x < 5:\n",
    "        return 2\n",
    "    elif x < 10:\n",
    "        return 3\n",
    "    elif x < 15:\n",
    "        return 4\n",
    "    elif x < 20:\n",
    "        return 5\n",
    "    elif x < 25:\n",
    "        return 6\n",
    "    elif x < 30:\n",
    "        return 7\n",
    "    elif x >= 30:\n",
    "        return 8"
   ]
  },
  {
   "cell_type": "code",
   "execution_count": 113,
   "metadata": {},
   "outputs": [],
   "source": [
    "iTripsDist['distclass'] = iTripsDist[' DIST'].map(classdist)"
   ]
  },
  {
   "cell_type": "code",
   "execution_count": 114,
   "metadata": {},
   "outputs": [],
   "source": [
    "a = (iTripsDist.groupby(['distclass','trip_purpose']).agg({'trip_purpose':'count'})*5).rename(columns={'trip_purpose':'count'}).reset_index()"
   ]
  },
  {
   "cell_type": "code",
   "execution_count": 115,
   "metadata": {},
   "outputs": [
    {
     "name": "stderr",
     "output_type": "stream",
     "text": [
      "C:\\Users\\sbuchhorn\\AppData\\Local\\Continuum\\anaconda3\\lib\\site-packages\\pandas\\core\\frame.py:6692: FutureWarning: Sorting because non-concatenation axis is not aligned. A future version\n",
      "of pandas will change to not sort by default.\n",
      "\n",
      "To accept the future behavior, pass 'sort=False'.\n",
      "\n",
      "To retain the current behavior and silence the warning, pass 'sort=True'.\n",
      "\n",
      "  sort=sort)\n"
     ]
    }
   ],
   "source": [
    "b = a.groupby('trip_purpose').agg({'count':'sum'}).reset_index()\n",
    "b['distclass'] = 'All'\n",
    "c = a.append(b, ignore_index=True)"
   ]
  },
  {
   "cell_type": "code",
   "execution_count": 116,
   "metadata": {},
   "outputs": [
    {
     "data": {
      "text/html": [
       "<div>\n",
       "<style scoped>\n",
       "    .dataframe tbody tr th:only-of-type {\n",
       "        vertical-align: middle;\n",
       "    }\n",
       "\n",
       "    .dataframe tbody tr th {\n",
       "        vertical-align: top;\n",
       "    }\n",
       "\n",
       "    .dataframe thead th {\n",
       "        text-align: right;\n",
       "    }\n",
       "</style>\n",
       "<table border=\"1\" class=\"dataframe\">\n",
       "  <thead>\n",
       "    <tr style=\"text-align: right;\">\n",
       "      <th></th>\n",
       "      <th>count</th>\n",
       "      <th>distclass</th>\n",
       "      <th>trip_purpose</th>\n",
       "    </tr>\n",
       "  </thead>\n",
       "  <tbody>\n",
       "    <tr>\n",
       "      <th>0</th>\n",
       "      <td>1071600</td>\n",
       "      <td>1</td>\n",
       "      <td>discretionary</td>\n",
       "    </tr>\n",
       "    <tr>\n",
       "      <th>1</th>\n",
       "      <td>687415</td>\n",
       "      <td>1</td>\n",
       "      <td>eatingout</td>\n",
       "    </tr>\n",
       "    <tr>\n",
       "      <th>2</th>\n",
       "      <td>1118715</td>\n",
       "      <td>1</td>\n",
       "      <td>escort</td>\n",
       "    </tr>\n",
       "    <tr>\n",
       "      <th>3</th>\n",
       "      <td>984370</td>\n",
       "      <td>1</td>\n",
       "      <td>maintenance</td>\n",
       "    </tr>\n",
       "    <tr>\n",
       "      <th>4</th>\n",
       "      <td>1294360</td>\n",
       "      <td>1</td>\n",
       "      <td>school</td>\n",
       "    </tr>\n",
       "  </tbody>\n",
       "</table>\n",
       "</div>"
      ],
      "text/plain": [
       "     count distclass   trip_purpose\n",
       "0  1071600         1  discretionary\n",
       "1   687415         1      eatingout\n",
       "2  1118715         1         escort\n",
       "3   984370         1    maintenance\n",
       "4  1294360         1         school"
      ]
     },
     "execution_count": 116,
     "metadata": {},
     "output_type": "execute_result"
    }
   ],
   "source": [
    "c.head()"
   ]
  },
  {
   "cell_type": "markdown",
   "metadata": {},
   "source": [
    "### data for csv7"
   ]
  },
  {
   "cell_type": "code",
   "execution_count": 117,
   "metadata": {},
   "outputs": [],
   "source": [
    "wortrips = iTripsDist[iTripsDist['trip_purpose'] == 'work']"
   ]
  },
  {
   "cell_type": "code",
   "execution_count": 118,
   "metadata": {},
   "outputs": [
    {
     "data": {
      "text/plain": [
       "1188015"
      ]
     },
     "execution_count": 118,
     "metadata": {},
     "output_type": "execute_result"
    }
   ],
   "source": [
    "len(wortrips)"
   ]
  },
  {
   "cell_type": "code",
   "execution_count": 119,
   "metadata": {},
   "outputs": [],
   "source": [
    "a = (wortrips.groupby(['distclass','trip_mode_transit']).agg({'trip_purpose':'count'})*5).rename(columns={'trip_purpose':'count'}).reset_index()"
   ]
  },
  {
   "cell_type": "code",
   "execution_count": 120,
   "metadata": {},
   "outputs": [
    {
     "name": "stderr",
     "output_type": "stream",
     "text": [
      "C:\\Users\\sbuchhorn\\AppData\\Local\\Continuum\\anaconda3\\lib\\site-packages\\pandas\\core\\frame.py:6692: FutureWarning: Sorting because non-concatenation axis is not aligned. A future version\n",
      "of pandas will change to not sort by default.\n",
      "\n",
      "To accept the future behavior, pass 'sort=False'.\n",
      "\n",
      "To retain the current behavior and silence the warning, pass 'sort=True'.\n",
      "\n",
      "  sort=sort)\n"
     ]
    }
   ],
   "source": [
    "b = a.groupby('distclass').agg({'count':'sum'}).reset_index()\n",
    "b['trip_mode_transit'] = 'All'\n",
    "c = a.append(b, ignore_index=True)"
   ]
  },
  {
   "cell_type": "code",
   "execution_count": 121,
   "metadata": {},
   "outputs": [
    {
     "data": {
      "text/html": [
       "<div>\n",
       "<style scoped>\n",
       "    .dataframe tbody tr th:only-of-type {\n",
       "        vertical-align: middle;\n",
       "    }\n",
       "\n",
       "    .dataframe tbody tr th {\n",
       "        vertical-align: top;\n",
       "    }\n",
       "\n",
       "    .dataframe thead th {\n",
       "        text-align: right;\n",
       "    }\n",
       "</style>\n",
       "<table border=\"1\" class=\"dataframe\">\n",
       "  <thead>\n",
       "    <tr style=\"text-align: right;\">\n",
       "      <th></th>\n",
       "      <th>count</th>\n",
       "      <th>distclass</th>\n",
       "      <th>trip_mode_transit</th>\n",
       "    </tr>\n",
       "  </thead>\n",
       "  <tbody>\n",
       "    <tr>\n",
       "      <th>0</th>\n",
       "      <td>31270</td>\n",
       "      <td>1</td>\n",
       "      <td>Bike</td>\n",
       "    </tr>\n",
       "    <tr>\n",
       "      <th>1</th>\n",
       "      <td>642555</td>\n",
       "      <td>1</td>\n",
       "      <td>Drive alone free</td>\n",
       "    </tr>\n",
       "    <tr>\n",
       "      <th>2</th>\n",
       "      <td>52295</td>\n",
       "      <td>1</td>\n",
       "      <td>Shared ride 2 free</td>\n",
       "    </tr>\n",
       "    <tr>\n",
       "      <th>3</th>\n",
       "      <td>9120</td>\n",
       "      <td>1</td>\n",
       "      <td>Shared ride 3+ free</td>\n",
       "    </tr>\n",
       "    <tr>\n",
       "      <th>4</th>\n",
       "      <td>980</td>\n",
       "      <td>1</td>\n",
       "      <td>Taxi</td>\n",
       "    </tr>\n",
       "  </tbody>\n",
       "</table>\n",
       "</div>"
      ],
      "text/plain": [
       "    count  distclass    trip_mode_transit\n",
       "0   31270          1                 Bike\n",
       "1  642555          1     Drive alone free\n",
       "2   52295          1   Shared ride 2 free\n",
       "3    9120          1  Shared ride 3+ free\n",
       "4     980          1                 Taxi"
      ]
     },
     "execution_count": 121,
     "metadata": {},
     "output_type": "execute_result"
    }
   ],
   "source": [
    "c.head()"
   ]
  },
  {
   "cell_type": "code",
   "execution_count": null,
   "metadata": {},
   "outputs": [],
   "source": []
  }
 ],
 "metadata": {
  "kernelspec": {
   "display_name": "Python 3",
   "language": "python",
   "name": "python3"
  },
  "language_info": {
   "codemirror_mode": {
    "name": "ipython",
    "version": 3
   },
   "file_extension": ".py",
   "mimetype": "text/x-python",
   "name": "python",
   "nbconvert_exporter": "python",
   "pygments_lexer": "ipython3",
   "version": "3.6.5"
  }
 },
 "nbformat": 4,
 "nbformat_minor": 2
}
